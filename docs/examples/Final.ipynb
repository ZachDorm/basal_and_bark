{
 "cells": [
  {
   "attachments": {},
   "cell_type": "markdown",
   "metadata": {},
   "source": [
    "[![image](https://colab.research.google.com/assets/colab-badge.svg)](https://colab.research.google.com/github/ZachDorm/basal_and_bark/blob/main/docs/examples/Final.ipynb)"
   ]
  },
  {
   "cell_type": "code",
   "execution_count": 1,
   "metadata": {},
   "outputs": [],
   "source": [
    "import pandas\n",
    "import basal_and_bark\n",
    "from basal_and_bark import basal_and_bark as basal\n",
    "import ipywidgets as widgets\n",
    "import ipyleaflet\n",
    "from ipyleaflet import Marker, Widget, WidgetControl, MarkerCluster\n",
    "import geopandas\n",
    "from ipyfilechooser import FileChooser"
   ]
  },
  {
   "cell_type": "code",
   "execution_count": 2,
   "metadata": {},
   "outputs": [],
   "source": [
    "leaflet_map = basal.Map(center = [40,-100], zoom = 4, test = \"test\", scroll_wheel_zoom = True)"
   ]
  },
  {
   "cell_type": "code",
   "execution_count": null,
   "metadata": {},
   "outputs": [],
   "source": [
    "leaflet_map.csv_to_shp('https://raw.githubusercontent.com/giswqs/geosdemo/master/docs/examples/data/world_cities.csv')"
   ]
  },
  {
   "cell_type": "code",
   "execution_count": null,
   "metadata": {},
   "outputs": [],
   "source": [
    "leaflet_map.csv_to_geojson('https://raw.githubusercontent.com/giswqs/geosdemo/master/docs/examples/data/world_cities.csv')"
   ]
  },
  {
   "cell_type": "code",
   "execution_count": 3,
   "metadata": {},
   "outputs": [
    {
     "data": {
      "application/vnd.jupyter.widget-view+json": {
       "model_id": "10d20e4ef5664dc5bb853aca52524510",
       "version_major": 2,
       "version_minor": 0
      },
      "text/plain": [
       "Map(center=[40, -100], controls=(ZoomControl(options=['position', 'zoom_in_text', 'zoom_in_title', 'zoom_out_t…"
      ]
     },
     "metadata": {},
     "output_type": "display_data"
    }
   ],
   "source": [
    "leaflet_map"
   ]
  },
  {
   "cell_type": "code",
   "execution_count": 5,
   "metadata": {},
   "outputs": [
    {
     "ename": "TypeError",
     "evalue": "string indices must be integers",
     "output_type": "error",
     "traceback": [
      "\u001b[1;31m---------------------------------------------------------------------------\u001b[0m",
      "\u001b[1;31mTypeError\u001b[0m                                 Traceback (most recent call last)",
      "Cell \u001b[1;32mIn[5], line 1\u001b[0m\n\u001b[1;32m----> 1\u001b[0m leaflet_map\u001b[39m.\u001b[39;49madd_points_from_csv(in_csv\u001b[39m=\u001b[39;49m\u001b[39m'\u001b[39;49m\u001b[39mhttps://raw.githubusercontent.com/giswqs/geosdemo/master/docs/examples/data/world_cities.csv\u001b[39;49m\u001b[39m'\u001b[39;49m)\n",
      "File \u001b[1;32mc:\\users\\zachd\\onedrive\\desktop\\geog 510 repos\\basal_and_bark\\basal_and_bark\\basal_and_bark.py:621\u001b[0m, in \u001b[0;36mMap.add_points_from_csv\u001b[1;34m(self, in_csv, x, y, label, layer_name)\u001b[0m\n\u001b[0;32m    620\u001b[0m \u001b[39mdef\u001b[39;00m \u001b[39madd_points_from_csv\u001b[39m(\u001b[39mself\u001b[39m, in_csv, x\u001b[39m=\u001b[39m\u001b[39m\"\u001b[39m\u001b[39mlongitude\u001b[39m\u001b[39m\"\u001b[39m, y\u001b[39m=\u001b[39m\u001b[39m\"\u001b[39m\u001b[39mlatitude\u001b[39m\u001b[39m\"\u001b[39m, label\u001b[39m=\u001b[39m\u001b[39mNone\u001b[39;00m, layer_name\u001b[39m=\u001b[39m\u001b[39m\"\u001b[39m\u001b[39mMarker cluster\u001b[39m\u001b[39m\"\u001b[39m):\n\u001b[1;32m--> 621\u001b[0m     coords \u001b[39m=\u001b[39m in_csv[[\u001b[39m'\u001b[39;49m\u001b[39mlongitude\u001b[39;49m\u001b[39m'\u001b[39;49m, \u001b[39m'\u001b[39;49m\u001b[39mlatitude\u001b[39;49m\u001b[39m'\u001b[39;49m]]\n\u001b[0;32m    622\u001b[0m     marker_list \u001b[39m=\u001b[39m [Marker(location\u001b[39m=\u001b[39m(\u001b[39m0\u001b[39m,\u001b[39m0\u001b[39m))]\u001b[39m*\u001b[39m\u001b[39mlen\u001b[39m(coords)\n\u001b[0;32m    624\u001b[0m     \u001b[39mfor\u001b[39;00m i \u001b[39min\u001b[39;00m \u001b[39mrange\u001b[39m(\u001b[39m0\u001b[39m,\u001b[39mlen\u001b[39m(coords)):\n",
      "\u001b[1;31mTypeError\u001b[0m: string indices must be integers"
     ]
    }
   ],
   "source": [
    "leaflet_map.add_points_from_csv(in_csv='https://raw.githubusercontent.com/giswqs/geosdemo/master/docs/examples/data/world_cities.csv')"
   ]
  },
  {
   "attachments": {},
   "cell_type": "markdown",
   "metadata": {},
   "source": [
    "So, completely lost on this error, it works fine when it is in a notebook, then when I put it in the .py it throws this."
   ]
  },
  {
   "cell_type": "code",
   "execution_count": null,
   "metadata": {},
   "outputs": [],
   "source": [
    "output_widget = widgets.Output(layout={'border': '1px solid black'})\n",
    "output_widget.clear_output()\n",
    "basemap_ctrl = WidgetControl(widget=output_widget, position='bottomright')\n",
    "leaflet_map.add_control(basemap_ctrl)\n",
    "\n",
    "# dropdown = widgets.Dropdown(options = [\"Topo\", \"ShadeRelief\", \"Gray\"], \n",
    "#             value=None,\n",
    "#             description='Basemap',\n",
    "#             )\n",
    "\n",
    "fc = FileChooser('/')\n",
    "close_button = widgets.ToggleButton(\n",
    "            value=True,\n",
    "            tooltip=\"Open or close basemap selector\",\n",
    "            icon=\"desktop\",\n",
    "            button_style=\"primary\",\n",
    "            #layout=widgets.Layout(height=\"28px\", width=\"28px\", padding=padding),\n",
    "        )\n",
    "button_1 = widgets.Text(\n",
    "    value='Enter URL',\n",
    "    placeholder='Type something',\n",
    "    description='String:',\n",
    "    disabled=False   \n",
    ")\n",
    "\n",
    "submit_button=widgets.Button(description='Submit text',button_style='success')\n",
    "\n",
    "with output_widget:\n",
    "    display(button_1, submit_button, fc, fc.value)\n",
    "try:\n",
    "    leaflet_map.add_points_from_csv(fc.value)\n",
    "except:\n",
    "    print(\"Select a file\")\n",
    "#button_1.on_submit(leaflet_map.add_points_from_csv(button_1.value))\n"
   ]
  },
  {
   "cell_type": "code",
   "execution_count": null,
   "metadata": {},
   "outputs": [],
   "source": [
    "def add_csv(change):\n",
    "    #csv = pandas.read_csv(change[\"new\"])\n",
    "    print(\"yea\")\n",
    "fc.observe(add_csv)\n"
   ]
  }
 ],
 "metadata": {
  "kernelspec": {
   "display_name": "Python 3",
   "language": "python",
   "name": "python3"
  },
  "language_info": {
   "codemirror_mode": {
    "name": "ipython",
    "version": 3
   },
   "file_extension": ".py",
   "mimetype": "text/x-python",
   "name": "python",
   "nbconvert_exporter": "python",
   "pygments_lexer": "ipython3",
   "version": "3.10.8"
  },
  "orig_nbformat": 4
 },
 "nbformat": 4,
 "nbformat_minor": 2
}
