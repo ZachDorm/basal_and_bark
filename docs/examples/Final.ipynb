{
 "cells": [
  {
   "cell_type": "code",
   "execution_count": 1,
   "metadata": {},
   "outputs": [],
   "source": [
    "import pandas\n",
    "import basal_and_bark\n",
    "from basal_and_bark import basal_and_bark as basal\n",
    "import ipywidgets as widgets\n",
    "import ipyleaflet\n",
    "from ipyleaflet import Marker, Widget, WidgetControl, MarkerCluster\n",
    "import geopandas"
   ]
  },
  {
   "cell_type": "code",
   "execution_count": 12,
   "metadata": {},
   "outputs": [],
   "source": [
    "leaflet_map = basal.Map(center = [40,-100], zoom = 4, test = \"test\", scroll_wheel_zoom = True)"
   ]
  },
  {
   "cell_type": "code",
   "execution_count": 13,
   "metadata": {},
   "outputs": [
    {
     "data": {
      "application/vnd.jupyter.widget-view+json": {
       "model_id": "fb4de49137a14a799b507ad20c8b3176",
       "version_major": 2,
       "version_minor": 0
      },
      "text/plain": [
       "Map(center=[40, -100], controls=(ZoomControl(options=['position', 'zoom_in_text', 'zoom_in_title', 'zoom_out_t…"
      ]
     },
     "metadata": {},
     "output_type": "display_data"
    }
   ],
   "source": [
    "leaflet_map"
   ]
  },
  {
   "cell_type": "code",
   "execution_count": 18,
   "metadata": {},
   "outputs": [
    {
     "ename": "TypeError",
     "evalue": "string indices must be integers",
     "output_type": "error",
     "traceback": [
      "\u001b[1;31m---------------------------------------------------------------------------\u001b[0m",
      "\u001b[1;31mTypeError\u001b[0m                                 Traceback (most recent call last)",
      "Cell \u001b[1;32mIn[18], line 30\u001b[0m\n\u001b[0;32m     27\u001b[0m \u001b[39mwith\u001b[39;00m output_widget:\n\u001b[0;32m     28\u001b[0m     display(button_1, submit_button)\n\u001b[1;32m---> 30\u001b[0m button_1\u001b[39m.\u001b[39mon_submit(leaflet_map\u001b[39m.\u001b[39;49madd_points_from_csv(button_1\u001b[39m.\u001b[39;49mvalue))\n",
      "File \u001b[1;32mc:\\users\\zachd\\onedrive\\desktop\\geog 510 repos\\basal_and_bark\\basal_and_bark\\basal_and_bark.py:621\u001b[0m, in \u001b[0;36mMap.add_points_from_csv\u001b[1;34m(self, in_csv, x, y, label, layer_name)\u001b[0m\n\u001b[0;32m    620\u001b[0m \u001b[39mdef\u001b[39;00m \u001b[39madd_points_from_csv\u001b[39m(\u001b[39mself\u001b[39m, in_csv, x\u001b[39m=\u001b[39m\u001b[39m\"\u001b[39m\u001b[39mlongitude\u001b[39m\u001b[39m\"\u001b[39m, y\u001b[39m=\u001b[39m\u001b[39m\"\u001b[39m\u001b[39mlatitude\u001b[39m\u001b[39m\"\u001b[39m, label\u001b[39m=\u001b[39m\u001b[39mNone\u001b[39;00m, layer_name\u001b[39m=\u001b[39m\u001b[39m\"\u001b[39m\u001b[39mMarker cluster\u001b[39m\u001b[39m\"\u001b[39m):\n\u001b[1;32m--> 621\u001b[0m     coords \u001b[39m=\u001b[39m in_csv[[x, y]]\n\u001b[0;32m    622\u001b[0m     marker_list \u001b[39m=\u001b[39m [Marker(location\u001b[39m=\u001b[39m(\u001b[39m0\u001b[39m,\u001b[39m0\u001b[39m))]\u001b[39m*\u001b[39m\u001b[39mlen\u001b[39m(coords)\n\u001b[0;32m    624\u001b[0m     \u001b[39mfor\u001b[39;00m i \u001b[39min\u001b[39;00m \u001b[39mrange\u001b[39m(\u001b[39m0\u001b[39m,\u001b[39mlen\u001b[39m(coords)):\n",
      "\u001b[1;31mTypeError\u001b[0m: string indices must be integers"
     ]
    }
   ],
   "source": [
    "output_widget = widgets.Output(layout={'border': '1px solid black'})\n",
    "output_widget.clear_output()\n",
    "basemap_ctrl = WidgetControl(widget=output_widget, position='bottomright')\n",
    "leaflet_map.add_control(basemap_ctrl)\n",
    "\n",
    "# dropdown = widgets.Dropdown(options = [\"Topo\", \"ShadeRelief\", \"Gray\"], \n",
    "#             value=None,\n",
    "#             description='Basemap',\n",
    "#             )\n",
    "\n",
    "close_button = widgets.ToggleButton(\n",
    "            value=True,\n",
    "            tooltip=\"Open or close basemap selector\",\n",
    "            icon=\"desktop\",\n",
    "            button_style=\"primary\",\n",
    "            #layout=widgets.Layout(height=\"28px\", width=\"28px\", padding=padding),\n",
    "        )\n",
    "button_1 = widgets.Text(\n",
    "    value='Enter URL',\n",
    "    placeholder='Type something',\n",
    "    description='String:',\n",
    "    disabled=False   \n",
    ")\n",
    "\n",
    "submit_button=widgets.Button(description='Submit text',button_style='success')\n",
    "\n",
    "with output_widget:\n",
    "    display(button_1, submit_button)\n",
    "\n",
    "button_1.on_submit(leaflet_map.add_points_from_csv(button_1.value))\n"
   ]
  },
  {
   "cell_type": "code",
   "execution_count": 10,
   "metadata": {},
   "outputs": [],
   "source": [
    "def add_csv(change):\n",
    "    #csv = pandas.read_csv(change[\"new\"])\n",
    "    with output_widget:\n",
    "        print(\"yea\")\n",
    "submit_button.on_click(add_csv, button_1.value)"
   ]
  }
 ],
 "metadata": {
  "kernelspec": {
   "display_name": "Python 3",
   "language": "python",
   "name": "python3"
  },
  "language_info": {
   "codemirror_mode": {
    "name": "ipython",
    "version": 3
   },
   "file_extension": ".py",
   "mimetype": "text/x-python",
   "name": "python",
   "nbconvert_exporter": "python",
   "pygments_lexer": "ipython3",
   "version": "3.10.8"
  },
  "orig_nbformat": 4
 },
 "nbformat": 4,
 "nbformat_minor": 2
}
