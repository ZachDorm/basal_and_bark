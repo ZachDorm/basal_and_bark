{
 "cells": [
  {
   "attachments": {},
   "cell_type": "markdown",
   "metadata": {},
   "source": [
    "[![image](https://colab.research.google.com/assets/colab-badge.svg)](https://colab.research.google.com/github/ZachDorm/basal_and_bark/blob/main/docs/examples/fia_db.ipynb)"
   ]
  },
  {
   "cell_type": "code",
   "execution_count": null,
   "metadata": {},
   "outputs": [],
   "source": [
    "# import requests\n",
    "# import pandas as pd\n",
    "# import geopandas as gp\n",
    "import basal_and_bark\n",
    "from basal_and_bark import basal_and_bark as basal\n",
    "import ipyleaflet\n",
    "# from ipyleaflet import Marker, Popup, WidgetControl, GeoData\n",
    "from ipyleaflet import WidgetControl\n",
    "import ipywidgets\n",
    "from ipywidgets import HTML, widgets"
   ]
  },
  {
   "cell_type": "code",
   "execution_count": null,
   "metadata": {},
   "outputs": [],
   "source": [
    "leaflet_map = basal.Map(center = [40,-100], zoom = 4, test = \"test\", scroll_wheel_zoom = True)"
   ]
  },
  {
   "cell_type": "code",
   "execution_count": null,
   "metadata": {},
   "outputs": [],
   "source": [
    "leaflet_map.add_layer_control()"
   ]
  },
  {
   "cell_type": "code",
   "execution_count": null,
   "metadata": {},
   "outputs": [],
   "source": [
    "leaflet_map"
   ]
  },
  {
   "cell_type": "code",
   "execution_count": null,
   "metadata": {},
   "outputs": [],
   "source": [
    "# leaflet_map.add_shp(\"https://github.com/ZachDorm/basal_and_bark/raw/main/docs/examples/data/tl_2022_us_state.zip\")"
   ]
  },
  {
   "cell_type": "code",
   "execution_count": null,
   "metadata": {},
   "outputs": [],
   "source": [
    "tn_counties_gd = leaflet_map.addRefData()\n"
   ]
  },
  {
   "cell_type": "code",
   "execution_count": null,
   "metadata": {},
   "outputs": [],
   "source": [
    "output_widget = widgets.Output(layout={'border': '1px solid black'})\n",
    "output_widget.clear_output()\n",
    "basemap_ctrl = WidgetControl(widget=output_widget, position='bottomright')\n",
    "leaflet_map.add_control(basemap_ctrl)\n",
    "\n",
    "dropdown = widgets.Dropdown(\n",
    "            options = [\"2018\", \"2019\", \"2020\", \"2021\"], \n",
    "            value=\"2020\",\n",
    "            description='Year',\n",
    "            )\n",
    "\n",
    "with output_widget:\n",
    "            display(dropdown)"
   ]
  },
  {
   "cell_type": "code",
   "execution_count": null,
   "metadata": {},
   "outputs": [],
   "source": [
    "def handle_click(**kwargs):\n",
    "\n",
    "    if kwargs.get('type') == 'click':\n",
    "        output_widget.clear_output()\n",
    "        #leaflet_map.add_layer(Marker(location=kwargs.get('coordinates')))\n",
    "        # latlon = kwargs.get('coordinates')\n",
    "\n",
    "        gdf = leaflet_map.makePointsFromClick(kwargs.get('coordinates'))\n",
    "\n",
    "        county = leaflet_map.findInt(tn_counties_gd, gdf)\n",
    "        # for i in range(1,len(tn_counties_gd['geometry']),1):\n",
    "        #     test = tn_counties_gd['geometry'][i].contains(gdf['geometry'])\n",
    "\n",
    "        #     county = 'name'\n",
    "\n",
    "        #     if test[0]:\n",
    "        #         county = tn_counties_gd['STUSPS'][i]\n",
    "        with output_widget:\n",
    "            display(dropdown)\n",
    "            print(county)\n",
    "        print(leaflet_map.getAPIdata(county, dropdown.value))#['ESTIMATE'])\n",
    "        print(\"The above table are estimates for 6 different categories of land, as specified by USFS: \"+ \n",
    "              \"'Timberland', 'Reserved', 'Other Forestland', 'Nonforest', 'Non-Census Water', 'Census Water', 'Other'\")\n",
    "        print(\"The table below contains summary statistics of the canopy cover in the Hansen et al Forest Change dataset.\")\n",
    "        print(leaflet_map.addGEEData(county))\n",
    "\n",
    "leaflet_map.on_interaction(handle_click)"
   ]
  },
  {
   "cell_type": "code",
   "execution_count": null,
   "metadata": {},
   "outputs": [],
   "source": [
    "output_widget.widgets[len(output_widget.widgets)-1]"
   ]
  },
  {
   "cell_type": "code",
   "execution_count": null,
   "metadata": {},
   "outputs": [],
   "source": [
    "output_widget.widgets.values()[len(output_widget.widgets.values())-1]"
   ]
  },
  {
   "cell_type": "code",
   "execution_count": null,
   "metadata": {},
   "outputs": [],
   "source": [
    "keys = output_widget.widgets.keys()\n",
    "keys[len(keys)-1]"
   ]
  },
  {
   "cell_type": "code",
   "execution_count": null,
   "metadata": {},
   "outputs": [],
   "source": [
    "output_widget.widgets[\"8561c5197658434691ce5b727c699ad0\"].value"
   ]
  }
 ],
 "metadata": {
  "kernelspec": {
   "display_name": "Python 3",
   "language": "python",
   "name": "python3"
  },
  "language_info": {
   "codemirror_mode": {
    "name": "ipython",
    "version": 3
   },
   "file_extension": ".py",
   "mimetype": "text/x-python",
   "name": "python",
   "nbconvert_exporter": "python",
   "pygments_lexer": "ipython3",
   "version": "3.10.8"
  },
  "orig_nbformat": 4
 },
 "nbformat": 4,
 "nbformat_minor": 2
}
