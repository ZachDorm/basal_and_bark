{
 "cells": [
  {
   "attachments": {},
   "cell_type": "markdown",
   "metadata": {},
   "source": [
    "[![image](https://colab.research.google.com/assets/colab-badge.svg)](https://colab.research.google.com/github/ZachDorm/basal_and_bark/blob/main/docs/examples/fia_db.ipynb)"
   ]
  },
  {
   "cell_type": "code",
   "execution_count": null,
   "metadata": {},
   "outputs": [],
   "source": [
    "%pip install basal_and_bark"
   ]
  },
  {
   "cell_type": "code",
   "execution_count": 1,
   "metadata": {},
   "outputs": [],
   "source": [
    "import basal_and_bark\n",
    "from basal_and_bark import basal_and_bark as basal\n",
    "import ipyleaflet\n",
    "from ipyleaflet import WidgetControl\n",
    "import ipywidgets\n",
    "from ipywidgets import HTML, widgets"
   ]
  },
  {
   "attachments": {},
   "cell_type": "markdown",
   "metadata": {},
   "source": [
    "Set up the Google Earth Engine (GEE) session. If you do not have a Google Earth Engine account, you can create one and authenticate it in the following code block. If you do not wish to make a GEE account, comment out the next block, second to last line of code: print(leaflet_map.addGEEData(county))\n",
    "\n",
    "There are additional functionalities to this package outside of what can be done using GEE, although it is cooler with GEE.\n"
   ]
  },
  {
   "cell_type": "code",
   "execution_count": 2,
   "metadata": {},
   "outputs": [],
   "source": [
    "import ee\n",
    "#ee.Authenticate()"
   ]
  },
  {
   "attachments": {},
   "cell_type": "markdown",
   "metadata": {},
   "source": [
    "Next, setup a simple basal_and_bark Map() environment to show functionality of the package in."
   ]
  },
  {
   "cell_type": "code",
   "execution_count": 3,
   "metadata": {},
   "outputs": [
    {
     "name": "stdout",
     "output_type": "stream",
     "text": [
      "       ESTIMATE\n",
      "0  1.804803e+07\n",
      "1  6.093884e+05\n",
      "2  2.706504e+04\n",
      "3  4.040822e+04\n",
      "4  1.223426e+07\n",
      "5  1.606379e+05\n",
      "6  3.324307e+06\n",
      "The above table are estimates for 6 different categories of land, as specified by USFS: 'Timberland', 'Reserved', 'Other Forestland', 'Nonforest', 'Non-Census Water', 'Census Water', 'Other'\n",
      "The table below contains summary statistics of the canopy cover in the Hansen et al Forest Change dataset.\n",
      "       GEEMap Data\n",
      "max   1.000000e+02\n",
      "mean  5.254678e+01\n",
      "min   0.000000e+00\n",
      "std   4.517764e+01\n",
      "sum   1.002224e+10\n"
     ]
    },
    {
     "name": "stdout",
     "output_type": "stream",
     "text": [
      "This is not a state in the USFS Southern Research Station.\n",
      "The above table are estimates for 6 different categories of land, as specified by USFS: 'Timberland', 'Reserved', 'Other Forestland', 'Nonforest', 'Non-Census Water', 'Census Water', 'Other'\n",
      "The table below contains summary statistics of the canopy cover in the Hansen et al Forest Change dataset.\n",
      "       GEEMap Data\n",
      "max   1.000000e+02\n",
      "mean  1.880011e+00\n",
      "min   0.000000e+00\n",
      "std   1.057519e+01\n",
      "sum   5.844621e+08\n"
     ]
    }
   ],
   "source": [
    "leaflet_map = basal.Map(center = [40,-100], zoom = 4, test = \"test\", scroll_wheel_zoom = True)"
   ]
  },
  {
   "cell_type": "code",
   "execution_count": 4,
   "metadata": {},
   "outputs": [],
   "source": [
    "leaflet_map.add_layer_control()"
   ]
  },
  {
   "cell_type": "code",
   "execution_count": 5,
   "metadata": {},
   "outputs": [
    {
     "data": {
      "application/vnd.jupyter.widget-view+json": {
       "model_id": "12050466c3da4cdb89323a9cf87b3d81",
       "version_major": 2,
       "version_minor": 0
      },
      "text/plain": [
       "Map(center=[40, -100], controls=(ZoomControl(options=['position', 'zoom_in_text', 'zoom_in_title', 'zoom_out_t…"
      ]
     },
     "metadata": {},
     "output_type": "display_data"
    }
   ],
   "source": [
    "leaflet_map"
   ]
  },
  {
   "attachments": {},
   "cell_type": "markdown",
   "metadata": {},
   "source": [
    "The addRefData() function loads in a shp file of the states for data aggregation. This is specific to states currently. Future work will be looking into potential uses of custom scales for examining forestry data in this package."
   ]
  },
  {
   "cell_type": "code",
   "execution_count": 6,
   "metadata": {},
   "outputs": [],
   "source": [
    "states = leaflet_map.addRefData()\n"
   ]
  },
  {
   "attachments": {},
   "cell_type": "markdown",
   "metadata": {},
   "source": [
    "Setup an output widget that will house a dropdown menu of years, from which the user can select the year they want to get FIA estimates for."
   ]
  },
  {
   "cell_type": "code",
   "execution_count": 7,
   "metadata": {},
   "outputs": [],
   "source": [
    "output_widget = widgets.Output(layout={'border': '1px solid black'})\n",
    "output_widget.clear_output()\n",
    "ctrl = WidgetControl(widget=output_widget, position='bottomright')\n",
    "leaflet_map.add_control(ctrl)\n",
    "\n",
    "dropdown = widgets.Dropdown(\n",
    "            options = [\"2018\", \"2019\", \"2020\", \"2021\"], \n",
    "            value=\"2020\",\n",
    "            description='Year',\n",
    "            )\n",
    "\n",
    "with output_widget:\n",
    "            display(dropdown)"
   ]
  },
  {
   "attachments": {},
   "cell_type": "markdown",
   "metadata": {},
   "source": [
    "This function activates when the user clicks a location on the map - *on_interaction(handle_click)*. A point is added to the map at the location of the click *makePointsFromClick()*. This location data is then used to determine which state the user clicked within *findInt()*. Then FIA estimates are returned for the state the user clicked in *getAPIData()*. Additionally, the Hansen et al forestry data available on GEE is clipped to the state the user clicked in and plotted on the map *addGEEData()*. Summary statistics of this clipped data is also returned. This gives the user two different representations of the state of forests in the state they clicked in."
   ]
  },
  {
   "cell_type": "code",
   "execution_count": 8,
   "metadata": {},
   "outputs": [],
   "source": [
    "def handle_click(**kwargs):\n",
    "\n",
    "    if kwargs.get('type') == 'click':\n",
    "        output_widget.clear_output()\n",
    "        #leaflet_map.add_layer(Marker(location=kwargs.get('coordinates')))\n",
    "\n",
    "        gdf = leaflet_map.makePointsFromClick(kwargs.get('coordinates'))\n",
    "\n",
    "        state = leaflet_map.findInt(states, gdf)\n",
    "        \n",
    "        with output_widget:\n",
    "            display(dropdown)\n",
    "            print(state)\n",
    "        print(leaflet_map.getAPIdata(state, dropdown.value))#['ESTIMATE'])\n",
    "        print(\"The above table are estimates for 6 different categories of land, as specified by USFS: \"+ \n",
    "              \"'Timberland', 'Reserved', 'Other Forestland', 'Nonforest', 'Non-Census Water', 'Census Water', 'Other'\")\n",
    "        print(\"The table below contains summary statistics of the canopy cover in the Hansen et al Forest Change dataset.\")\n",
    "        print(leaflet_map.addGEEData(state))\n",
    "\n",
    "leaflet_map.on_interaction(handle_click)"
   ]
  }
 ],
 "metadata": {
  "kernelspec": {
   "display_name": "Python 3",
   "language": "python",
   "name": "python3"
  },
  "language_info": {
   "codemirror_mode": {
    "name": "ipython",
    "version": 3
   },
   "file_extension": ".py",
   "mimetype": "text/x-python",
   "name": "python",
   "nbconvert_exporter": "python",
   "pygments_lexer": "ipython3",
   "version": "3.10.8"
  },
  "orig_nbformat": 4
 },
 "nbformat": 4,
 "nbformat_minor": 2
}
