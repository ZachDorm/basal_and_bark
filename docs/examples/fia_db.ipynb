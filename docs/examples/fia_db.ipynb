{
 "cells": [
  {
   "cell_type": "code",
   "execution_count": 3,
   "metadata": {},
   "outputs": [],
   "source": [
    "import requests\n",
    "import pandas as pd"
   ]
  },
  {
   "cell_type": "code",
   "execution_count": 1,
   "metadata": {},
   "outputs": [],
   "source": [
    "url = \"https://apps.fs.usda.gov/fiadb-api/fullreport?rselected=Land%20Use%20-%20Major&cselected=Land%20use&snum=79&wc=102020&outputFormat=NJSON\""
   ]
  },
  {
   "cell_type": "code",
   "execution_count": 16,
   "metadata": {},
   "outputs": [],
   "source": [
    "url2 = \"https://apps.fs.usda.gov/fiadb-api/fullreport?lat=40&lon=84&radius=0.5&rselected=Land%20Use%20-%20Major&cselected=Land%20use&snum=79&wc=102020&outputFormat=NJSON\""
   ]
  },
  {
   "cell_type": "code",
   "execution_count": 17,
   "metadata": {},
   "outputs": [],
   "source": [
    "# make request\n",
    "resp = requests.get(url2)"
   ]
  },
  {
   "cell_type": "code",
   "execution_count": 18,
   "metadata": {},
   "outputs": [
    {
     "ename": "JSONDecodeError",
     "evalue": "Expecting value: line 1 column 1 (char 0)",
     "output_type": "error",
     "traceback": [
      "\u001b[1;31m---------------------------------------------------------------------------\u001b[0m",
      "\u001b[1;31mJSONDecodeError\u001b[0m                           Traceback (most recent call last)",
      "File \u001b[1;32mc:\\Users\\zachd\\Conda2\\miniconda3\\envs\\geos\\lib\\site-packages\\requests\\models.py:971\u001b[0m, in \u001b[0;36mResponse.json\u001b[1;34m(self, **kwargs)\u001b[0m\n\u001b[0;32m    970\u001b[0m \u001b[39mtry\u001b[39;00m:\n\u001b[1;32m--> 971\u001b[0m     \u001b[39mreturn\u001b[39;00m complexjson\u001b[39m.\u001b[39mloads(\u001b[39mself\u001b[39m\u001b[39m.\u001b[39mtext, \u001b[39m*\u001b[39m\u001b[39m*\u001b[39mkwargs)\n\u001b[0;32m    972\u001b[0m \u001b[39mexcept\u001b[39;00m JSONDecodeError \u001b[39mas\u001b[39;00m e:\n\u001b[0;32m    973\u001b[0m     \u001b[39m# Catch JSON-related errors and raise as requests.JSONDecodeError\u001b[39;00m\n\u001b[0;32m    974\u001b[0m     \u001b[39m# This aliases json.JSONDecodeError and simplejson.JSONDecodeError\u001b[39;00m\n",
      "File \u001b[1;32mc:\\Users\\zachd\\Conda2\\miniconda3\\envs\\geos\\lib\\json\\__init__.py:346\u001b[0m, in \u001b[0;36mloads\u001b[1;34m(s, cls, object_hook, parse_float, parse_int, parse_constant, object_pairs_hook, **kw)\u001b[0m\n\u001b[0;32m    343\u001b[0m \u001b[39mif\u001b[39;00m (\u001b[39mcls\u001b[39m \u001b[39mis\u001b[39;00m \u001b[39mNone\u001b[39;00m \u001b[39mand\u001b[39;00m object_hook \u001b[39mis\u001b[39;00m \u001b[39mNone\u001b[39;00m \u001b[39mand\u001b[39;00m\n\u001b[0;32m    344\u001b[0m         parse_int \u001b[39mis\u001b[39;00m \u001b[39mNone\u001b[39;00m \u001b[39mand\u001b[39;00m parse_float \u001b[39mis\u001b[39;00m \u001b[39mNone\u001b[39;00m \u001b[39mand\u001b[39;00m\n\u001b[0;32m    345\u001b[0m         parse_constant \u001b[39mis\u001b[39;00m \u001b[39mNone\u001b[39;00m \u001b[39mand\u001b[39;00m object_pairs_hook \u001b[39mis\u001b[39;00m \u001b[39mNone\u001b[39;00m \u001b[39mand\u001b[39;00m \u001b[39mnot\u001b[39;00m kw):\n\u001b[1;32m--> 346\u001b[0m     \u001b[39mreturn\u001b[39;00m _default_decoder\u001b[39m.\u001b[39;49mdecode(s)\n\u001b[0;32m    347\u001b[0m \u001b[39mif\u001b[39;00m \u001b[39mcls\u001b[39m \u001b[39mis\u001b[39;00m \u001b[39mNone\u001b[39;00m:\n",
      "File \u001b[1;32mc:\\Users\\zachd\\Conda2\\miniconda3\\envs\\geos\\lib\\json\\decoder.py:337\u001b[0m, in \u001b[0;36mJSONDecoder.decode\u001b[1;34m(self, s, _w)\u001b[0m\n\u001b[0;32m    333\u001b[0m \u001b[39m\u001b[39m\u001b[39m\"\"\"Return the Python representation of ``s`` (a ``str`` instance\u001b[39;00m\n\u001b[0;32m    334\u001b[0m \u001b[39mcontaining a JSON document).\u001b[39;00m\n\u001b[0;32m    335\u001b[0m \n\u001b[0;32m    336\u001b[0m \u001b[39m\"\"\"\u001b[39;00m\n\u001b[1;32m--> 337\u001b[0m obj, end \u001b[39m=\u001b[39m \u001b[39mself\u001b[39;49m\u001b[39m.\u001b[39;49mraw_decode(s, idx\u001b[39m=\u001b[39;49m_w(s, \u001b[39m0\u001b[39;49m)\u001b[39m.\u001b[39;49mend())\n\u001b[0;32m    338\u001b[0m end \u001b[39m=\u001b[39m _w(s, end)\u001b[39m.\u001b[39mend()\n",
      "File \u001b[1;32mc:\\Users\\zachd\\Conda2\\miniconda3\\envs\\geos\\lib\\json\\decoder.py:355\u001b[0m, in \u001b[0;36mJSONDecoder.raw_decode\u001b[1;34m(self, s, idx)\u001b[0m\n\u001b[0;32m    354\u001b[0m \u001b[39mexcept\u001b[39;00m \u001b[39mStopIteration\u001b[39;00m \u001b[39mas\u001b[39;00m err:\n\u001b[1;32m--> 355\u001b[0m     \u001b[39mraise\u001b[39;00m JSONDecodeError(\u001b[39m\"\u001b[39m\u001b[39mExpecting value\u001b[39m\u001b[39m\"\u001b[39m, s, err\u001b[39m.\u001b[39mvalue) \u001b[39mfrom\u001b[39;00m \u001b[39mNone\u001b[39m\n\u001b[0;32m    356\u001b[0m \u001b[39mreturn\u001b[39;00m obj, end\n",
      "\u001b[1;31mJSONDecodeError\u001b[0m: Expecting value: line 1 column 1 (char 0)",
      "\nDuring handling of the above exception, another exception occurred:\n",
      "\u001b[1;31mJSONDecodeError\u001b[0m                           Traceback (most recent call last)",
      "Cell \u001b[1;32mIn[18], line 2\u001b[0m\n\u001b[0;32m      1\u001b[0m \u001b[39m# parse response to json\u001b[39;00m\n\u001b[1;32m----> 2\u001b[0m data \u001b[39m=\u001b[39m resp\u001b[39m.\u001b[39;49mjson()\n",
      "File \u001b[1;32mc:\\Users\\zachd\\Conda2\\miniconda3\\envs\\geos\\lib\\site-packages\\requests\\models.py:975\u001b[0m, in \u001b[0;36mResponse.json\u001b[1;34m(self, **kwargs)\u001b[0m\n\u001b[0;32m    971\u001b[0m     \u001b[39mreturn\u001b[39;00m complexjson\u001b[39m.\u001b[39mloads(\u001b[39mself\u001b[39m\u001b[39m.\u001b[39mtext, \u001b[39m*\u001b[39m\u001b[39m*\u001b[39mkwargs)\n\u001b[0;32m    972\u001b[0m \u001b[39mexcept\u001b[39;00m JSONDecodeError \u001b[39mas\u001b[39;00m e:\n\u001b[0;32m    973\u001b[0m     \u001b[39m# Catch JSON-related errors and raise as requests.JSONDecodeError\u001b[39;00m\n\u001b[0;32m    974\u001b[0m     \u001b[39m# This aliases json.JSONDecodeError and simplejson.JSONDecodeError\u001b[39;00m\n\u001b[1;32m--> 975\u001b[0m     \u001b[39mraise\u001b[39;00m RequestsJSONDecodeError(e\u001b[39m.\u001b[39mmsg, e\u001b[39m.\u001b[39mdoc, e\u001b[39m.\u001b[39mpos)\n",
      "\u001b[1;31mJSONDecodeError\u001b[0m: Expecting value: line 1 column 1 (char 0)"
     ]
    }
   ],
   "source": [
    "\n",
    "# parse response to json\n",
    "data = resp.json()"
   ]
  },
  {
   "cell_type": "code",
   "execution_count": 4,
   "metadata": {},
   "outputs": [],
   "source": [
    "\n",
    "\n",
    "    # create output dictionary and populate it with estimate data frames\n",
    "outDict = {}\n",
    "    # append estimates\n",
    "outDict['estimates'] = pd.DataFrame(data['estimates'])\n",
    "\n",
    "    # append subtotals and totals if present\n",
    "if 'subtotals' in data.keys():\n",
    "    subT = {}\n",
    "    for i in data['subtotals'].keys():\n",
    "        subT[i] = pd.DataFrame(data['subtotals'][i])\n",
    "    outDict['subtotals'] = subT\n",
    "    outDict['totals'] = pd.DataFrame(data['totals'])\n",
    "\n",
    "    # append metadata\n",
    "outDict['metadata'] = data['metadata']"
   ]
  },
  {
   "cell_type": "code",
   "execution_count": 5,
   "metadata": {},
   "outputs": [
    {
     "data": {
      "text/html": [
       "<div>\n",
       "<style scoped>\n",
       "    .dataframe tbody tr th:only-of-type {\n",
       "        vertical-align: middle;\n",
       "    }\n",
       "\n",
       "    .dataframe tbody tr th {\n",
       "        vertical-align: top;\n",
       "    }\n",
       "\n",
       "    .dataframe thead th {\n",
       "        text-align: right;\n",
       "    }\n",
       "</style>\n",
       "<table border=\"1\" class=\"dataframe\">\n",
       "  <thead>\n",
       "    <tr style=\"text-align: right;\">\n",
       "      <th></th>\n",
       "      <th>ESTIMATE</th>\n",
       "      <th>GRP1</th>\n",
       "      <th>GRP2</th>\n",
       "      <th>PLOT_COUNT</th>\n",
       "      <th>SE</th>\n",
       "      <th>SE_PERCENT</th>\n",
       "      <th>VARIANCE</th>\n",
       "    </tr>\n",
       "  </thead>\n",
       "  <tbody>\n",
       "    <tr>\n",
       "      <th>0</th>\n",
       "      <td>338396.723126</td>\n",
       "      <td>`0001 Timberland</td>\n",
       "      <td>`0001 Timberland</td>\n",
       "      <td>126</td>\n",
       "      <td>14124.919150</td>\n",
       "      <td>4.174071</td>\n",
       "      <td>1.995133e+08</td>\n",
       "    </tr>\n",
       "    <tr>\n",
       "      <th>1</th>\n",
       "      <td>11687.686340</td>\n",
       "      <td>`0002 Reserved Forestland</td>\n",
       "      <td>`0003 Reserved productive forestland</td>\n",
       "      <td>6</td>\n",
       "      <td>5017.987809</td>\n",
       "      <td>42.933971</td>\n",
       "      <td>2.518020e+07</td>\n",
       "    </tr>\n",
       "    <tr>\n",
       "      <th>2</th>\n",
       "      <td>1807.524799</td>\n",
       "      <td>`0002 Reserved Forestland</td>\n",
       "      <td>`0004 Reserved other forestland</td>\n",
       "      <td>1</td>\n",
       "      <td>1923.492946</td>\n",
       "      <td>106.415854</td>\n",
       "      <td>3.699825e+06</td>\n",
       "    </tr>\n",
       "    <tr>\n",
       "      <th>3</th>\n",
       "      <td>1542.995199</td>\n",
       "      <td>`0003 Other forestland</td>\n",
       "      <td>`0002 Other forestland</td>\n",
       "      <td>1</td>\n",
       "      <td>1561.297876</td>\n",
       "      <td>101.186178</td>\n",
       "      <td>2.437651e+06</td>\n",
       "    </tr>\n",
       "    <tr>\n",
       "      <th>4</th>\n",
       "      <td>869624.874848</td>\n",
       "      <td>`0004 Nonforest</td>\n",
       "      <td>`0005 Nonforest</td>\n",
       "      <td>293</td>\n",
       "      <td>15297.520211</td>\n",
       "      <td>1.759094</td>\n",
       "      <td>2.340141e+08</td>\n",
       "    </tr>\n",
       "    <tr>\n",
       "      <th>5</th>\n",
       "      <td>11522.496930</td>\n",
       "      <td>`0005 Non-Census water</td>\n",
       "      <td>`0006 Non-Census water</td>\n",
       "      <td>7</td>\n",
       "      <td>5466.142491</td>\n",
       "      <td>47.438871</td>\n",
       "      <td>2.987871e+07</td>\n",
       "    </tr>\n",
       "    <tr>\n",
       "      <th>6</th>\n",
       "      <td>62249.798757</td>\n",
       "      <td>`0006 Census water</td>\n",
       "      <td>`0007 Census water</td>\n",
       "      <td>17</td>\n",
       "      <td>6553.197826</td>\n",
       "      <td>10.527259</td>\n",
       "      <td>4.294440e+07</td>\n",
       "    </tr>\n",
       "  </tbody>\n",
       "</table>\n",
       "</div>"
      ],
      "text/plain": [
       "        ESTIMATE                       GRP1  \\\n",
       "0  338396.723126           `0001 Timberland   \n",
       "1   11687.686340  `0002 Reserved Forestland   \n",
       "2    1807.524799  `0002 Reserved Forestland   \n",
       "3    1542.995199     `0003 Other forestland   \n",
       "4  869624.874848            `0004 Nonforest   \n",
       "5   11522.496930     `0005 Non-Census water   \n",
       "6   62249.798757         `0006 Census water   \n",
       "\n",
       "                                   GRP2  PLOT_COUNT            SE  SE_PERCENT  \\\n",
       "0                      `0001 Timberland         126  14124.919150    4.174071   \n",
       "1  `0003 Reserved productive forestland           6   5017.987809   42.933971   \n",
       "2       `0004 Reserved other forestland           1   1923.492946  106.415854   \n",
       "3                `0002 Other forestland           1   1561.297876  101.186178   \n",
       "4                       `0005 Nonforest         293  15297.520211    1.759094   \n",
       "5                `0006 Non-Census water           7   5466.142491   47.438871   \n",
       "6                    `0007 Census water          17   6553.197826   10.527259   \n",
       "\n",
       "       VARIANCE  \n",
       "0  1.995133e+08  \n",
       "1  2.518020e+07  \n",
       "2  3.699825e+06  \n",
       "3  2.437651e+06  \n",
       "4  2.340141e+08  \n",
       "5  2.987871e+07  \n",
       "6  4.294440e+07  "
      ]
     },
     "execution_count": 5,
     "metadata": {},
     "output_type": "execute_result"
    }
   ],
   "source": [
    "outDict[\"estimates\"]"
   ]
  }
 ],
 "metadata": {
  "kernelspec": {
   "display_name": "Python 3",
   "language": "python",
   "name": "python3"
  },
  "language_info": {
   "codemirror_mode": {
    "name": "ipython",
    "version": 3
   },
   "file_extension": ".py",
   "mimetype": "text/x-python",
   "name": "python",
   "nbconvert_exporter": "python",
   "pygments_lexer": "ipython3",
   "version": "3.10.8"
  },
  "orig_nbformat": 4
 },
 "nbformat": 4,
 "nbformat_minor": 2
}
