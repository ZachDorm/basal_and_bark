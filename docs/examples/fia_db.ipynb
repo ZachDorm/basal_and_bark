{
 "cells": [
  {
   "cell_type": "code",
   "execution_count": 1,
   "metadata": {},
   "outputs": [],
   "source": [
    "import requests\n",
    "import pandas as pd\n",
    "import geopandas as gp\n",
    "import basal_and_bark\n",
    "from basal_and_bark import basal_and_bark as basal\n",
    "import ipyleaflet\n",
    "from ipyleaflet import Marker, Popup, WidgetControl, GeoData\n",
    "import ipywidgets\n",
    "from ipywidgets import HTML, widgets"
   ]
  },
  {
   "cell_type": "code",
   "execution_count": 2,
   "metadata": {},
   "outputs": [
    {
     "name": "stdout",
     "output_type": "stream",
     "text": [
      "       ESTIMATE                       GRP1  \\\n",
      "0  2.299593e+07           `0001 Timberland   \n",
      "1  9.221615e+04  `0002 Reserved Forestland   \n",
      "2  5.779893e+03     `0003 Other forestland   \n",
      "3  9.187540e+06            `0004 Nonforest   \n",
      "4  1.599913e+05     `0005 Non-Census water   \n",
      "5  1.107255e+06         `0006 Census water   \n",
      "\n",
      "                                   GRP2  PLOT_COUNT             SE  \\\n",
      "0                      `0001 Timberland        4258  116168.555463   \n",
      "1  `0003 Reserved productive forestland          17   22583.437728   \n",
      "2                `0002 Other forestland           1    5889.315697   \n",
      "3                       `0005 Nonforest        2144  127095.482790   \n",
      "4                `0006 Non-Census water          72   24268.138198   \n",
      "5                    `0007 Census water         205   66828.965605   \n",
      "\n",
      "   SE_PERCENT      VARIANCE  \n",
      "0    0.505170  1.349513e+10  \n",
      "1   24.489678  5.100117e+08  \n",
      "2  101.893160  3.468404e+07  \n",
      "3    1.383346  1.615326e+10  \n",
      "4   15.168414  5.889425e+08  \n",
      "5    6.035553  4.466111e+09  \n"
     ]
    },
    {
     "name": "stdout",
     "output_type": "stream",
     "text": [
      "       ESTIMATE                       GRP1  \\\n",
      "0  1.267198e+07           `0001 Timberland   \n",
      "1  1.628825e+05  `0002 Reserved Forestland   \n",
      "2  1.431640e+04     `0003 Other forestland   \n",
      "3  6.397835e+06            `0004 Nonforest   \n",
      "4  1.062155e+05     `0005 Non-Census water   \n",
      "5  1.139907e+06         `0006 Census water   \n",
      "\n",
      "                                   GRP2  PLOT_COUNT             SE  \\\n",
      "0                      `0001 Timberland        2643   98390.205282   \n",
      "1  `0003 Reserved productive forestland          38   29257.554692   \n",
      "2                `0002 Other forestland           4    7980.836292   \n",
      "3                       `0005 Nonforest        1507  112648.481505   \n",
      "4                `0006 Non-Census water          48   19993.299845   \n",
      "5                    `0007 Census water         202   74232.442218   \n",
      "\n",
      "   SE_PERCENT      VARIANCE  \n",
      "0    0.776439  9.680632e+09  \n",
      "1   17.962364  8.560045e+08  \n",
      "2   55.746118  6.369375e+07  \n",
      "3    1.760728  1.268968e+10  \n",
      "4   18.823341  3.997320e+08  \n",
      "5    6.512148  5.510455e+09  \n"
     ]
    }
   ],
   "source": [
    "leaflet_map = basal.Map(center = [40,-100], zoom = 4, test = \"test\", scroll_wheel_zoom = True)"
   ]
  },
  {
   "cell_type": "code",
   "execution_count": 3,
   "metadata": {},
   "outputs": [],
   "source": [
    "leaflet_map.add_layer_control()"
   ]
  },
  {
   "cell_type": "code",
   "execution_count": 4,
   "metadata": {},
   "outputs": [
    {
     "data": {
      "application/vnd.jupyter.widget-view+json": {
       "model_id": "5bf1a1120049469bbe57fa339ca89b1b",
       "version_major": 2,
       "version_minor": 0
      },
      "text/plain": [
       "Map(center=[40, -100], controls=(ZoomControl(options=['position', 'zoom_in_text', 'zoom_in_title', 'zoom_out_t…"
      ]
     },
     "metadata": {},
     "output_type": "display_data"
    }
   ],
   "source": [
    "leaflet_map"
   ]
  },
  {
   "cell_type": "code",
   "execution_count": null,
   "metadata": {},
   "outputs": [],
   "source": [
    "leaflet_map.add_shp(\"https://github.com/ZachDorm/basal_and_bark/raw/main/docs/examples/data/tl_2022_us_state.zip\")"
   ]
  },
  {
   "cell_type": "code",
   "execution_count": 5,
   "metadata": {},
   "outputs": [],
   "source": [
    "tn_counties_gd = leaflet_map.addRefData()\n"
   ]
  },
  {
   "cell_type": "code",
   "execution_count": 6,
   "metadata": {},
   "outputs": [],
   "source": [
    "output_widget = widgets.Output(layout={'border': '1px solid black'})\n",
    "output_widget.clear_output()\n",
    "basemap_ctrl = WidgetControl(widget=output_widget, position='bottomright')\n",
    "leaflet_map.add_control(basemap_ctrl)\n",
    "\n",
    "dropdown = widgets.Dropdown(\n",
    "            options = [\"2020\", \"2021\", \"2022\"], \n",
    "            value=\"2020\",\n",
    "            description='Year',\n",
    "            )\n",
    "\n",
    "with output_widget:\n",
    "            display(dropdown)"
   ]
  },
  {
   "cell_type": "code",
   "execution_count": 7,
   "metadata": {},
   "outputs": [],
   "source": [
    "def handle_click(**kwargs):\n",
    "    if kwargs.get('type') == 'click':\n",
    "        output_widget.clear_output()\n",
    "        #leaflet_map.add_layer(Marker(location=kwargs.get('coordinates')))\n",
    "        latlon = kwargs.get('coordinates')\n",
    "\n",
    "        gdf = leaflet_map.makePointsFromClick(latlon)\n",
    "\n",
    "        for i in range(1,len(tn_counties_gd['geometry']),1):\n",
    "            test = tn_counties_gd['geometry'][i].contains(gdf['geometry'])\n",
    "\n",
    "            county = 'name'\n",
    "\n",
    "            if test[0]:\n",
    "                county = tn_counties_gd['STUSPS'][i]\n",
    "                with output_widget:\n",
    "                    display(dropdown)\n",
    "                    print(county)\n",
    "                    print(type(county))\n",
    "                print(leaflet_map.getAPIdata(county, dropdown.value))\n",
    "\n",
    "        # with output_widget:\n",
    "        #     print()\n",
    "            \n",
    "leaflet_map.on_interaction(handle_click)"
   ]
  },
  {
   "cell_type": "code",
   "execution_count": null,
   "metadata": {},
   "outputs": [],
   "source": [
    "output_widget.widgets[len(output_widget.widgets)-1]"
   ]
  },
  {
   "cell_type": "code",
   "execution_count": null,
   "metadata": {},
   "outputs": [],
   "source": [
    "output_widget.widgets.values()[len(output_widget.widgets.values())-1]"
   ]
  },
  {
   "cell_type": "code",
   "execution_count": null,
   "metadata": {},
   "outputs": [],
   "source": [
    "keys = output_widget.widgets.keys()\n",
    "keys[len(keys)-1]"
   ]
  },
  {
   "cell_type": "code",
   "execution_count": null,
   "metadata": {},
   "outputs": [],
   "source": [
    "output_widget.widgets[\"8561c5197658434691ce5b727c699ad0\"].value"
   ]
  }
 ],
 "metadata": {
  "kernelspec": {
   "display_name": "Python 3",
   "language": "python",
   "name": "python3"
  },
  "language_info": {
   "codemirror_mode": {
    "name": "ipython",
    "version": 3
   },
   "file_extension": ".py",
   "mimetype": "text/x-python",
   "name": "python",
   "nbconvert_exporter": "python",
   "pygments_lexer": "ipython3",
   "version": "3.10.8"
  },
  "orig_nbformat": 4
 },
 "nbformat": 4,
 "nbformat_minor": 2
}
