{
 "cells": [
  {
   "cell_type": "code",
   "execution_count": null,
   "metadata": {},
   "outputs": [],
   "source": [
    "import requests\n",
    "import pandas as pd\n",
    "import geopandas as gp\n",
    "import basal_and_bark\n",
    "from basal_and_bark import basal_and_bark as basal\n",
    "import ipyleaflet\n",
    "from ipyleaflet import Marker, Popup, WidgetControl, GeoData\n",
    "import ipywidgets\n",
    "from ipywidgets import HTML, widgets"
   ]
  },
  {
   "cell_type": "code",
   "execution_count": null,
   "metadata": {},
   "outputs": [],
   "source": [
    "states = {\"AL\": 1,\n",
    "\"AR\": 5,\n",
    "\"FL\": 12,\n",
    "\"GA\": 13,\n",
    "\"KY\": 21,\n",
    "\"LA\": 22,\n",
    "\"MS\": 28,\n",
    "\"NC\": 37,\n",
    "\"OK\": 40,\n",
    "\"SC\": 45,\n",
    "\"TN\": 47,\n",
    "\"TX\": 48,\n",
    "\"VA\": 51\n",
    "}\n",
    "\n"
   ]
  },
  {
   "cell_type": "code",
   "execution_count": null,
   "metadata": {},
   "outputs": [],
   "source": [
    "states.keys()"
   ]
  },
  {
   "cell_type": "code",
   "execution_count": null,
   "metadata": {},
   "outputs": [],
   "source": [
    "url = \"https://apps.fs.usda.gov/fiadb-api/fullreport?rselected=Land%20Use%20-%20Major&cselected=Land%20use&snum=79&wc=102020&outputFormat=NJSON\""
   ]
  },
  {
   "cell_type": "code",
   "execution_count": null,
   "metadata": {},
   "outputs": [],
   "source": [
    "url2 = \"https://apps.fs.usda.gov/fiadb-api/fullreport?lat=40.1&lon=84.1&radius=0.5&outputFormat=NJSON\""
   ]
  },
  {
   "cell_type": "code",
   "execution_count": null,
   "metadata": {},
   "outputs": [],
   "source": [
    "# make request\n",
    "resp = requests.get(url)"
   ]
  },
  {
   "cell_type": "code",
   "execution_count": null,
   "metadata": {},
   "outputs": [],
   "source": [
    "\n",
    "# parse response to json\n",
    "data = resp.json()"
   ]
  },
  {
   "cell_type": "code",
   "execution_count": null,
   "metadata": {},
   "outputs": [],
   "source": [
    "data.keys()"
   ]
  },
  {
   "cell_type": "code",
   "execution_count": null,
   "metadata": {},
   "outputs": [],
   "source": [
    "data['subtotals'].keys()"
   ]
  },
  {
   "cell_type": "code",
   "execution_count": null,
   "metadata": {},
   "outputs": [],
   "source": [
    "\n",
    "\n",
    "    # create output dictionary and populate it with estimate data frames\n",
    "outDict = {}\n",
    "    # append estimates\n",
    "outDict['estimates'] = pd.DataFrame(data['estimates'])\n",
    "\n",
    "    # append subtotals and totals if present\n",
    "if 'subtotals' in data.keys():\n",
    "     subT = {}\n",
    "     for i in data['subtotals'].keys():\n",
    "         subT[i] = pd.DataFrame(data['subtotals'][i])\n",
    "     outDict['subtotals'] = subT\n",
    "     outDict['totals'] = pd.DataFrame(data['totals'])\n",
    "\n",
    "    # append metadata\n",
    "outDict['metadata'] = data['metadata']"
   ]
  },
  {
   "cell_type": "code",
   "execution_count": null,
   "metadata": {},
   "outputs": [],
   "source": [
    "outDict[\"estimates\"]"
   ]
  },
  {
   "cell_type": "code",
   "execution_count": null,
   "metadata": {},
   "outputs": [],
   "source": [
    "leaflet_map = basal.Map(center = [40,-100], zoom = 4, test = \"test\", scroll_wheel_zoom = True)"
   ]
  },
  {
   "cell_type": "code",
   "execution_count": null,
   "metadata": {},
   "outputs": [],
   "source": [
    "leaflet_map.add_layer_control()"
   ]
  },
  {
   "cell_type": "code",
   "execution_count": null,
   "metadata": {},
   "outputs": [],
   "source": [
    "leaflet_map"
   ]
  },
  {
   "cell_type": "code",
   "execution_count": null,
   "metadata": {},
   "outputs": [],
   "source": [
    "leaflet_map.add_shp(\"https://github.com/ZachDorm/basal_and_bark/raw/main/docs/examples/data/tl_2022_us_state.zip\")"
   ]
  },
  {
   "cell_type": "code",
   "execution_count": null,
   "metadata": {},
   "outputs": [],
   "source": [
    "leaflet_map.add_shp(\"C:/Users/zachd/Downloads/tl_2022_us_state.zip\")"
   ]
  },
  {
   "cell_type": "code",
   "execution_count": null,
   "metadata": {},
   "outputs": [],
   "source": [
    "output_widget = widgets.Output(layout={'border': '1px solid black'})\n",
    "output_widget.clear_output()\n",
    "basemap_ctrl = WidgetControl(widget=output_widget, position='bottomright')\n",
    "leaflet_map.add_control(basemap_ctrl)\n",
    "\n",
    "dropdown = widgets.Dropdown(\n",
    "            options = [\"2020\", \"2021\", \"2022\"], \n",
    "            value=\"2020\",\n",
    "            description='Year',\n",
    "            )\n",
    "\n",
    "with output_widget:\n",
    "    display(dropdown)"
   ]
  },
  {
   "cell_type": "code",
   "execution_count": null,
   "metadata": {},
   "outputs": [],
   "source": [
    "var = 0\n",
    "\n",
    "def handle_click(**kwargs):\n",
    "    if kwargs.get('type') == 'click':\n",
    "        #leaflet_map.add_layer(Marker(location=kwargs.get('coordinates')))\n",
    "        latlon = kwargs.get('coordinates')\n",
    "        lat = kwargs.get('coordinates')[0]\n",
    "        lon = kwargs.get('coordinates')[1]\n",
    "\n",
    "        df = pd.DataFrame({'longitude': [lon], 'latitude': [lat]})\n",
    "\n",
    "        geometry = gp.points_from_xy(df.longitude, df.latitude, crs=\"EPSG:4326\")\n",
    "\n",
    "        gdf = gp.GeoDataFrame(df, geometry=gp.points_from_xy(df.longitude, df.latitude), crs=\"EPSG:4326\")\n",
    "\n",
    "        tn_counties = gp.read_file(\"https://github.com/ZachDorm/basal_and_bark/raw/main/docs/examples/data/tl_2022_us_state.zip\")\n",
    "        tn_counties_gd = gp.GeoDataFrame(tn_counties['geometry'])#, crs=\"EPSG:4326\")\n",
    "\n",
    "        tn_counties = tn_counties.set_crs(\"EPSG:4326\", allow_override=True)\n",
    "        tn_counties_gd = tn_counties_gd.set_crs(\"EPSG:4326\", allow_override=True)\n",
    "\n",
    "\n",
    "        print(gdf)\n",
    "        print(tn_counties_gd['geometry'][1].contains(gdf['geometry']))\n",
    "        geo_data = GeoData(geo_dataframe = gdf,\n",
    "            style={'color': 'black', 'radius':8, 'fillColor': '#3366cc', 'opacity':0.5, 'weight':1.9, 'dashArray':'2', 'fillOpacity':0.6},\n",
    "            hover_style={'fillColor': 'red' , 'fillOpacity': 0.2},\n",
    "            point_style={'radius': 5, 'color': 'red', 'fillOpacity': 0.8, 'fillColor': 'blue', 'weight': 3}, name=\"test\")\n",
    "\n",
    "        leaflet_map.add_layer(geo_data)\n",
    "        tn_counties_gd = gp.GeoDataFrame(tn_counties, crs=\"EPSG:4326\")\n",
    "        # tn_counties_gd = gp.GeoSeries(tn_counties, crs=\"EPSG:4326\")\n",
    "        count = 0\n",
    "        for i in range(1,len(tn_counties_gd['geometry']),1):\n",
    "            test = tn_counties_gd['geometry'][i].contains(gdf['geometry'])\n",
    "            # tn_counties_gd['contain'] = test\n",
    "\n",
    "            county = 'name'\n",
    "\n",
    "            if test[0]:\n",
    "                county = tn_counties_gd['NAME'][i]\n",
    "                with output_widget:\n",
    "                    print(county)\n",
    "                print(getAPIdata(county, dropdown))\n",
    "            count = count +1\n",
    "\n",
    "        with output_widget:\n",
    "            print(df)\n",
    "            # print(county)\n",
    "        \n",
    "\n",
    "leaflet_map.on_interaction(handle_click)"
   ]
  },
  {
   "cell_type": "code",
   "execution_count": null,
   "metadata": {},
   "outputs": [],
   "source": [
    "print(getAPIdata('Alabama'))"
   ]
  },
  {
   "cell_type": "code",
   "execution_count": null,
   "metadata": {},
   "outputs": [],
   "source": [
    "def getAPIdata(state, year):\n",
    "    state_name=state\n",
    "    match state_name:\n",
    "        case 'Alabama':\n",
    "            url = f\"https://apps.fs.usda.gov/fiadb-api/fullreport?rselected=Land%20Use%20-%20Major&cselected=Land%20use&snum=79&wc=10{year}2020&outputFormat=NJSON\"    \n",
    "    \n",
    "        case 'Arkansas':\n",
    "            url = f\"https://apps.fs.usda.gov/fiadb-api/fullreport?rselected=Land%20Use%20-%20Major&cselected=Land%20use&snum=79&wc=10{year}&outputFormat=NJSON\"\n",
    "    \n",
    "        case 'Florida':\n",
    "            url = f\"https://apps.fs.usda.gov/fiadb-api/fullreport?rselected=Land%20Use%20-%20Major&cselected=Land%20use&snum=79&wc=10{year}&outputFormat=NJSON\"\n",
    "    \n",
    "        case 'Tennessee':\n",
    "            url = f\"https://apps.fs.usda.gov/fiadb-api/fullreport?rselected=Land%20Use%20-%20Major&cselected=Land%20use&snum=79&wc=10{year}&outputFormat=NJSON\"\n",
    "    \n",
    "        case 'Kentucky':\n",
    "            url = f\"https://apps.fs.usda.gov/fiadb-api/fullreport?rselected=Land%20Use%20-%20Major&cselected=Land%20use&snum=79&wc=10{year}&outputFormat=NJSON\"\n",
    "    \n",
    "        case 'Virginia':\n",
    "            url = f\"https://apps.fs.usda.gov/fiadb-api/fullreport?rselected=Land%20Use%20-%20Major&cselected=Land%20use&snum=79&wc=10{year}&outputFormat=NJSON\"\n",
    "    \n",
    "        case 'North Carolina':\n",
    "            url = f\"https://apps.fs.usda.gov/fiadb-api/fullreport?rselected=Land%20Use%20-%20Major&cselected=Land%20use&snum=79&wc=10{year}&outputFormat=NJSON\"\n",
    "    \n",
    "        case 'South Carolina':\n",
    "            url = f\"https://apps.fs.usda.gov/fiadb-api/fullreport?rselected=Land%20Use%20-%20Major&cselected=Land%20use&snum=79&wc=10{year}&outputFormat=NJSON\"\n",
    "    \n",
    "        case 'Georgia':\n",
    "            url = f\"https://apps.fs.usda.gov/fiadb-api/fullreport?rselected=Land%20Use%20-%20Major&cselected=Land%20use&snum=79&wc=10{year}&outputFormat=NJSON\"\n",
    "    \n",
    "        case 'Lousiana':\n",
    "            url = f\"https://apps.fs.usda.gov/fiadb-api/fullreport?rselected=Land%20Use%20-%20Major&cselected=Land%20use&snum=79&wc=10{year}&outputFormat=NJSON\"\n",
    "    \n",
    "        case 'Texas':\n",
    "            url = f\"https://apps.fs.usda.gov/fiadb-api/fullreport?rselected=Land%20Use%20-%20Major&cselected=Land%20use&snum=79&wc=10{year}&outputFormat=NJSON\"\n",
    "    \n",
    "        case 'Oklahoma':\n",
    "            url = f\"https://apps.fs.usda.gov/fiadb-api/fullreport?rselected=Land%20Use%20-%20Major&cselected=Land%20use&snum=79&wc=10{year}&outputFormat=NJSON\"\n",
    "    \n",
    "        case 'Mississippi':\n",
    "            url = f\"https://apps.fs.usda.gov/fiadb-api/fullreport?rselected=Land%20Use%20-%20Major&cselected=Land%20use&snum=79&wc=10{year}&outputFormat=NJSON\"\n",
    "\n",
    "\n",
    "    resp = requests.get(url)\n",
    "    data = resp.json()\n",
    " # create output dictionary and populate it with estimate data frames\n",
    "    outDict = {}\n",
    "    # append estimates\n",
    "    outDict['estimates'] = pd.DataFrame(data['estimates'])\n",
    "\n",
    "    # append subtotals and totals if present\n",
    "    if 'subtotals' in data.keys():\n",
    "        subT = {}\n",
    "        for i in data['subtotals'].keys():\n",
    "             subT[i] = pd.DataFrame(data['subtotals'][i])\n",
    "        \n",
    "        outDict['subtotals'] = subT\n",
    "        outDict['totals'] = pd.DataFrame(data['totals'])\n",
    "\n",
    "    # append metadata\n",
    "    outDict['metadata'] = data['metadata']\n",
    "    return outDict[\"estimates\"]"
   ]
  },
  {
   "cell_type": "code",
   "execution_count": null,
   "metadata": {},
   "outputs": [],
   "source": [
    "tn_counties_gd"
   ]
  },
  {
   "cell_type": "code",
   "execution_count": null,
   "metadata": {},
   "outputs": [],
   "source": [
    "for i in range(1,len(tn_counties_gd['geometry']),1):\n",
    "            test = tn_counties_gd['geometry'][i].contains(gdf['geometry'])\n",
    "            if test[0]==False:\n",
    "                    print (test)"
   ]
  },
  {
   "cell_type": "code",
   "execution_count": null,
   "metadata": {},
   "outputs": [],
   "source": [
    "match state_name:\n",
    "    case 'Alabama':\n",
    "        url = \"https://apps.fs.usda.gov/fiadb-api/fullreport?rselected=Land%20Use%20-%20Major&cselected=Land%20use&snum=79&wc=102020&outputFormat=NJSON\"    \n",
    "    \n",
    "    case 'Arkansas':\n",
    "        url = \"https://apps.fs.usda.gov/fiadb-api/fullreport?rselected=Land%20Use%20-%20Major&cselected=Land%20use&snum=79&wc=102020&outputFormat=NJSON\"\n",
    "    \n",
    "    case 'Florida':\n",
    "        url = \"https://apps.fs.usda.gov/fiadb-api/fullreport?rselected=Land%20Use%20-%20Major&cselected=Land%20use&snum=79&wc=102020&outputFormat=NJSON\"\n",
    "    \n",
    "    case 'Tennessee':\n",
    "        url = \"https://apps.fs.usda.gov/fiadb-api/fullreport?rselected=Land%20Use%20-%20Major&cselected=Land%20use&snum=79&wc=102020&outputFormat=NJSON\"\n",
    "    \n",
    "    case 'Kentucky':\n",
    "        url = \"https://apps.fs.usda.gov/fiadb-api/fullreport?rselected=Land%20Use%20-%20Major&cselected=Land%20use&snum=79&wc=102020&outputFormat=NJSON\"\n",
    "    \n",
    "    case 'Virginia':\n",
    "        url = \"https://apps.fs.usda.gov/fiadb-api/fullreport?rselected=Land%20Use%20-%20Major&cselected=Land%20use&snum=79&wc=102020&outputFormat=NJSON\"\n",
    "    \n",
    "    case 'North Carolina':\n",
    "        url = \"https://apps.fs.usda.gov/fiadb-api/fullreport?rselected=Land%20Use%20-%20Major&cselected=Land%20use&snum=79&wc=102020&outputFormat=NJSON\"\n",
    "    \n",
    "    case 'South Carolina':\n",
    "        url = \"https://apps.fs.usda.gov/fiadb-api/fullreport?rselected=Land%20Use%20-%20Major&cselected=Land%20use&snum=79&wc=102020&outputFormat=NJSON\"\n",
    "    \n",
    "    case 'Georgia':\n",
    "        url = \"https://apps.fs.usda.gov/fiadb-api/fullreport?rselected=Land%20Use%20-%20Major&cselected=Land%20use&snum=79&wc=102020&outputFormat=NJSON\"\n",
    "    \n",
    "    case 'Lousiana':\n",
    "        url = \"https://apps.fs.usda.gov/fiadb-api/fullreport?rselected=Land%20Use%20-%20Major&cselected=Land%20use&snum=79&wc=102020&outputFormat=NJSON\"\n",
    "    \n",
    "    case 'Texas':\n",
    "        url = \"https://apps.fs.usda.gov/fiadb-api/fullreport?rselected=Land%20Use%20-%20Major&cselected=Land%20use&snum=79&wc=102020&outputFormat=NJSON\"\n",
    "    \n",
    "    case 'Oklahoma':\n",
    "        url = \"https://apps.fs.usda.gov/fiadb-api/fullreport?rselected=Land%20Use%20-%20Major&cselected=Land%20use&snum=79&wc=102020&outputFormat=NJSON\"\n",
    "    \n",
    "    case 'Mississippi':\n",
    "        url = \"https://apps.fs.usda.gov/fiadb-api/fullreport?rselected=Land%20Use%20-%20Major&cselected=Land%20use&snum=79&wc=102020&outputFormat=NJSON\""
   ]
  },
  {
   "cell_type": "code",
   "execution_count": null,
   "metadata": {},
   "outputs": [],
   "source": [
    "leaflet_map.add_shp(\"https://github.com/ZachDorm/basal_and_bark/raw/main/docs/examples/data/tl_2018_tn_county.zip\")\n",
    "tn_counties = gp.read_file(\"https://github.com/ZachDorm/basal_and_bark/raw/main/docs/examples/data/tl_2018_tn_county.zip\")"
   ]
  },
  {
   "cell_type": "code",
   "execution_count": null,
   "metadata": {},
   "outputs": [],
   "source": [
    "for i in tn_counties:\n",
    "    if i['geometry'].contains(geo_data):\n",
    "        print(i)"
   ]
  },
  {
   "cell_type": "code",
   "execution_count": null,
   "metadata": {},
   "outputs": [],
   "source": [
    "df = pd.DataFrame({'longitude': [-85.151319], 'latitude': [35.252723]})\n",
    "\n",
    "geometry = gp.points_from_xy(x=df.longitude, y=df.latitude, crs=\"EPSG:4326\")\n",
    "\n",
    "gdf = gp.GeoDataFrame(df, geometry=gp.points_from_xy(df.longitude, df.latitude), crs=\"EPSG:4326\")\n",
    "\n",
    "tn_counties = gp.read_file(\"https://github.com/ZachDorm/basal_and_bark/raw/main/docs/examples/data/tl_2018_tn_county.zip\")\n",
    "\n",
    "#-86.462284  35.603719\n",
    "#35.252723, -85.151319"
   ]
  },
  {
   "cell_type": "code",
   "execution_count": null,
   "metadata": {},
   "outputs": [],
   "source": [
    "#tn_counties = gp.read_file(\"https://github.com/ZachDorm/basal_and_bark/raw/main/docs/examples/data/tl_2018_tn_county.zip\")\n",
    "tn_counties_gd = gp.GeoDataFrame(tn_counties, crs=\"EPSG:4326\")\n",
    "tn_counties_gs = gp.GeoSeries(tn_counties['geometry'], crs=\"EPSG:4326\")\n",
    "\n",
    "tn_counties = tn_counties.set_crs(\"EPSG:4326\", allow_override=True)\n"
   ]
  },
  {
   "cell_type": "code",
   "execution_count": null,
   "metadata": {},
   "outputs": [],
   "source": [
    "tn_counties_gd"
   ]
  },
  {
   "cell_type": "code",
   "execution_count": null,
   "metadata": {},
   "outputs": [],
   "source": [
    "tn_counties"
   ]
  },
  {
   "cell_type": "code",
   "execution_count": null,
   "metadata": {},
   "outputs": [],
   "source": [
    "gdf"
   ]
  },
  {
   "cell_type": "code",
   "execution_count": null,
   "metadata": {},
   "outputs": [],
   "source": [
    "def testIt():\n",
    "    test = tn_counties_gd.contains(gdf['geometry'])\n",
    "    tn_counties_gd['contain'] = test\n",
    "    count = 0\n",
    "    for i in tn_counties_gd['contain']:\n",
    "        if i:\n",
    "            print(type(tn_counties_gd['NAME'][count]))\n",
    "        count = count +1\n",
    "    # contained = tn_counties_gd.loc[tn_counties_gd['contain']]==True\n",
    "# print(tn_counties_gd.loc[tn_counties_gd['contain']]==True)"
   ]
  }
 ],
 "metadata": {
  "kernelspec": {
   "display_name": "Python 3",
   "language": "python",
   "name": "python3"
  },
  "language_info": {
   "codemirror_mode": {
    "name": "ipython",
    "version": 3
   },
   "file_extension": ".py",
   "mimetype": "text/x-python",
   "name": "python",
   "nbconvert_exporter": "python",
   "pygments_lexer": "ipython3",
   "version": "3.10.8"
  },
  "orig_nbformat": 4
 },
 "nbformat": 4,
 "nbformat_minor": 2
}
