{
 "cells": [
  {
   "cell_type": "code",
   "execution_count": 2,
   "metadata": {},
   "outputs": [],
   "source": [
    "import basal_and_bark\n",
    "from basal_and_bark import basal_and_bark as basal\n",
    "from basal_and_bark import basal_and_bark_folium as basal_folium\n",
    "import geemap\n",
    "import ee"
   ]
  },
  {
   "cell_type": "code",
   "execution_count": 3,
   "metadata": {},
   "outputs": [
    {
     "data": {
      "text/html": [
       "<p>To authorize access needed by Earth Engine, open the following\n",
       "        URL in a web browser and follow the instructions:</p>\n",
       "        <p><a href=https://code.earthengine.google.com/client-auth?scopes=https%3A//www.googleapis.com/auth/earthengine%20https%3A//www.googleapis.com/auth/devstorage.full_control&request_id=kBQl61RaIwX1kGXQ2bZhv91on-yJr5SWWjoxzXTveVo&tc=RoCsUKPFtk3rD8YquOfxZ-h9ZdJ2uQuV07dfaf6IaI0&cc=EcK65P2m0iHXejvyNWFBvzJZaSQL7tpQ2aEFnHbo1ew>https://code.earthengine.google.com/client-auth?scopes=https%3A//www.googleapis.com/auth/earthengine%20https%3A//www.googleapis.com/auth/devstorage.full_control&request_id=kBQl61RaIwX1kGXQ2bZhv91on-yJr5SWWjoxzXTveVo&tc=RoCsUKPFtk3rD8YquOfxZ-h9ZdJ2uQuV07dfaf6IaI0&cc=EcK65P2m0iHXejvyNWFBvzJZaSQL7tpQ2aEFnHbo1ew</a></p>\n",
       "        <p>The authorization workflow will generate a code, which you should paste in the box below.</p>\n",
       "        "
      ],
      "text/plain": [
       "<IPython.core.display.HTML object>"
      ]
     },
     "metadata": {},
     "output_type": "display_data"
    }
   ],
   "source": [
    "geemap.Map()"
   ]
  },
  {
   "cell_type": "code",
   "execution_count": 4,
   "metadata": {},
   "outputs": [
    {
     "ename": "EEException",
     "evalue": "Please authorize access to your Earth Engine account by running\n\nearthengine authenticate\n\nin your command line, and then retry.",
     "output_type": "error",
     "traceback": [
      "\u001b[1;31m---------------------------------------------------------------------------\u001b[0m",
      "\u001b[1;31mFileNotFoundError\u001b[0m                         Traceback (most recent call last)",
      "File \u001b[1;32mc:\\Users\\zachd\\Conda2\\miniconda3\\envs\\geos\\lib\\site-packages\\ee\\data.py:222\u001b[0m, in \u001b[0;36mget_persistent_credentials\u001b[1;34m()\u001b[0m\n\u001b[0;32m    221\u001b[0m \u001b[39mtry\u001b[39;00m:\n\u001b[1;32m--> 222\u001b[0m   \u001b[39mreturn\u001b[39;00m Credentials(\u001b[39mNone\u001b[39;00m, \u001b[39m*\u001b[39m\u001b[39m*\u001b[39moauth\u001b[39m.\u001b[39;49mget_credentials_arguments())\n\u001b[0;32m    223\u001b[0m \u001b[39mexcept\u001b[39;00m \u001b[39mIOError\u001b[39;00m:\n",
      "File \u001b[1;32mc:\\Users\\zachd\\Conda2\\miniconda3\\envs\\geos\\lib\\site-packages\\ee\\oauth.py:72\u001b[0m, in \u001b[0;36mget_credentials_arguments\u001b[1;34m()\u001b[0m\n\u001b[0;32m     71\u001b[0m \u001b[39mdef\u001b[39;00m \u001b[39mget_credentials_arguments\u001b[39m():\n\u001b[1;32m---> 72\u001b[0m   \u001b[39mwith\u001b[39;00m \u001b[39mopen\u001b[39;49m(get_credentials_path()) \u001b[39mas\u001b[39;00m creds:\n\u001b[0;32m     73\u001b[0m     stored \u001b[39m=\u001b[39m json\u001b[39m.\u001b[39mload(creds)\n",
      "\u001b[1;31mFileNotFoundError\u001b[0m: [Errno 2] No such file or directory: 'C:\\\\Users\\\\zachd/.config/earthengine/credentials'",
      "\nDuring handling of the above exception, another exception occurred:\n",
      "\u001b[1;31mEEException\u001b[0m                               Traceback (most recent call last)",
      "Cell \u001b[1;32mIn[4], line 1\u001b[0m\n\u001b[1;32m----> 1\u001b[0m ee\u001b[39m.\u001b[39;49mInitialize()\n\u001b[0;32m      2\u001b[0m \u001b[39m# data = ee.Image('')\u001b[39;00m\n\u001b[0;32m      3\u001b[0m states \u001b[39m=\u001b[39m ee\u001b[39m.\u001b[39mFeatureCollection(\u001b[39m\"\u001b[39m\u001b[39mTIGER/2018/States\u001b[39m\u001b[39m\"\u001b[39m)\n",
      "File \u001b[1;32mc:\\Users\\zachd\\Conda2\\miniconda3\\envs\\geos\\lib\\site-packages\\ee\\__init__.py:130\u001b[0m, in \u001b[0;36mInitialize\u001b[1;34m(credentials, opt_url, cloud_api_key, http_transport, project)\u001b[0m\n\u001b[0;32m    113\u001b[0m \u001b[39m\u001b[39m\u001b[39m\"\"\"Initialize the EE library.\u001b[39;00m\n\u001b[0;32m    114\u001b[0m \n\u001b[0;32m    115\u001b[0m \u001b[39mIf this hasn't been called by the time any object constructor is used,\u001b[39;00m\n\u001b[1;32m   (...)\u001b[0m\n\u001b[0;32m    127\u001b[0m \u001b[39m  project: The client project ID or number to use when making API calls.\u001b[39;00m\n\u001b[0;32m    128\u001b[0m \u001b[39m\"\"\"\u001b[39;00m\n\u001b[0;32m    129\u001b[0m \u001b[39mif\u001b[39;00m credentials \u001b[39m==\u001b[39m \u001b[39m'\u001b[39m\u001b[39mpersistent\u001b[39m\u001b[39m'\u001b[39m:\n\u001b[1;32m--> 130\u001b[0m   credentials \u001b[39m=\u001b[39m data\u001b[39m.\u001b[39;49mget_persistent_credentials()\n\u001b[0;32m    131\u001b[0m data\u001b[39m.\u001b[39minitialize(\n\u001b[0;32m    132\u001b[0m     credentials\u001b[39m=\u001b[39mcredentials,\n\u001b[0;32m    133\u001b[0m     api_base_url\u001b[39m=\u001b[39m(opt_url \u001b[39m+\u001b[39m \u001b[39m'\u001b[39m\u001b[39m/api\u001b[39m\u001b[39m'\u001b[39m \u001b[39mif\u001b[39;00m opt_url \u001b[39melse\u001b[39;00m \u001b[39mNone\u001b[39;00m),\n\u001b[1;32m   (...)\u001b[0m\n\u001b[0;32m    137\u001b[0m     project\u001b[39m=\u001b[39mproject,\n\u001b[0;32m    138\u001b[0m     http_transport\u001b[39m=\u001b[39mhttp_transport)\n\u001b[0;32m    139\u001b[0m \u001b[39m# Initialize the dynamically loaded functions on the objects that want them.\u001b[39;00m\n",
      "File \u001b[1;32mc:\\Users\\zachd\\Conda2\\miniconda3\\envs\\geos\\lib\\site-packages\\ee\\data.py:224\u001b[0m, in \u001b[0;36mget_persistent_credentials\u001b[1;34m()\u001b[0m\n\u001b[0;32m    222\u001b[0m   \u001b[39mreturn\u001b[39;00m Credentials(\u001b[39mNone\u001b[39;00m, \u001b[39m*\u001b[39m\u001b[39m*\u001b[39moauth\u001b[39m.\u001b[39mget_credentials_arguments())\n\u001b[0;32m    223\u001b[0m \u001b[39mexcept\u001b[39;00m \u001b[39mIOError\u001b[39;00m:\n\u001b[1;32m--> 224\u001b[0m   \u001b[39mraise\u001b[39;00m ee_exception\u001b[39m.\u001b[39mEEException(\n\u001b[0;32m    225\u001b[0m       \u001b[39m'\u001b[39m\u001b[39mPlease authorize access to your Earth Engine account by \u001b[39m\u001b[39m'\u001b[39m\n\u001b[0;32m    226\u001b[0m       \u001b[39m'\u001b[39m\u001b[39mrunning\u001b[39m\u001b[39m\\n\u001b[39;00m\u001b[39m\\n\u001b[39;00m\u001b[39mearthengine authenticate\u001b[39m\u001b[39m\\n\u001b[39;00m\u001b[39m\\n\u001b[39;00m\u001b[39m'\u001b[39m\n\u001b[0;32m    227\u001b[0m       \u001b[39m'\u001b[39m\u001b[39min your command line, and then retry.\u001b[39m\u001b[39m'\u001b[39m)\n",
      "\u001b[1;31mEEException\u001b[0m: Please authorize access to your Earth Engine account by running\n\nearthengine authenticate\n\nin your command line, and then retry."
     ]
    }
   ],
   "source": [
    "ee.Initialize()\n",
    "# data = ee.Image('')\n",
    "states = ee.FeatureCollection(\"TIGER/2018/States\")"
   ]
  }
 ],
 "metadata": {
  "kernelspec": {
   "display_name": "Python 3",
   "language": "python",
   "name": "python3"
  },
  "language_info": {
   "codemirror_mode": {
    "name": "ipython",
    "version": 3
   },
   "file_extension": ".py",
   "mimetype": "text/x-python",
   "name": "python",
   "nbconvert_exporter": "python",
   "pygments_lexer": "ipython3",
   "version": "3.10.8"
  },
  "orig_nbformat": 4
 },
 "nbformat": 4,
 "nbformat_minor": 2
}
