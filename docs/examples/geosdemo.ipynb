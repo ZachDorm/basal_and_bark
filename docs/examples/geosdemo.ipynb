{
 "cells": [
  {
   "attachments": {},
   "cell_type": "markdown",
   "metadata": {},
   "source": [
    "[![image](https://colab.research.google.com/assets/colab-badge.svg)](https://colab.research.google.com/github/ZachDorm/basal_and_bark/blob/main/docs/examples/geosdemo.ipynb)"
   ]
  },
  {
   "cell_type": "code",
   "execution_count": null,
   "metadata": {},
   "outputs": [],
   "source": [
    "%pip install basal_and_bark"
   ]
  },
  {
   "cell_type": "code",
   "execution_count": 1,
   "metadata": {},
   "outputs": [],
   "source": [
    "#import basal_and_bark\n",
    "import basal_and_bark"
   ]
  },
  {
   "cell_type": "code",
   "execution_count": null,
   "metadata": {},
   "outputs": [],
   "source": [
    "#instantiate a basal_and_bark ipyleaflet map instance\n",
    "\n",
    "m = basal_and_bark.Map(center = [40,-100], zoom = 4, test = \"test\", scroll_wheel_zoom = True)\n",
    "type(m)\n"
   ]
  },
  {
   "cell_type": "code",
   "execution_count": null,
   "metadata": {},
   "outputs": [],
   "source": [
    "basal_and_bark.Map(center = [40,-100], zoom = 4, test = \"test\", scroll_wheel_zoom = True)"
   ]
  },
  {
   "cell_type": "code",
   "execution_count": null,
   "metadata": {},
   "outputs": [],
   "source": [
    "#add layer control to the basal_and_bark map\n",
    "basal_and_bark.Map(center = [40,-100], zoom = 4, test = \"test\", scroll_wheel_zoom = True).add_layer_control()\n"
   ]
  },
  {
   "cell_type": "code",
   "execution_count": null,
   "metadata": {},
   "outputs": [],
   "source": [
    "basal_and_bark.generate_random_string(10)"
   ]
  },
  {
   "cell_type": "code",
   "execution_count": null,
   "metadata": {},
   "outputs": [],
   "source": [
    "#View the sample data\n",
    "#The data can be viewed and explored without adding it to the working map\n",
    "file_location=\"https://github.com/ZachDorm/basal_and_bark/raw/main/docs/examples/data/tl_2018_tn_county.zip\"\n",
    "\n",
    "b=basal_and_bark.view_data(file_location)\n",
    "\n",
    "b"
   ]
  },
  {
   "cell_type": "code",
   "execution_count": null,
   "metadata": {},
   "outputs": [],
   "source": [
    "#add data to the working map\n",
    "file_location=\"https://github.com/ZachDorm/basal_and_bark/raw/main/docs/examples/data/tl_2018_tn_county.zip\"\n",
    "basal_and_bark.add_data(m,file_location)"
   ]
  },
  {
   "cell_type": "code",
   "execution_count": null,
   "metadata": {},
   "outputs": [],
   "source": [
    "basal_and_bark.add_basemap(m)"
   ]
  },
  {
   "cell_type": "code",
   "execution_count": null,
   "metadata": {},
   "outputs": [],
   "source": [
    "# basal_and_bark.Map_Folium(location = [40,-100])\n",
    "basal_and_bark.Map_Folium(location = [40,-100], tiles=\"Stamen Terrain\", zoom_start=13)"
   ]
  }
 ],
 "metadata": {
  "kernelspec": {
   "display_name": "Python 3",
   "language": "python",
   "name": "python3"
  },
  "language_info": {
   "codemirror_mode": {
    "name": "ipython",
    "version": 3
   },
   "file_extension": ".py",
   "mimetype": "text/x-python",
   "name": "python",
   "nbconvert_exporter": "python",
   "pygments_lexer": "ipython3",
   "version": "3.10.8"
  },
  "orig_nbformat": 4
 },
 "nbformat": 4,
 "nbformat_minor": 2
}
