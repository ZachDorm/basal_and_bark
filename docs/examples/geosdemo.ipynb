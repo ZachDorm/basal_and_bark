{
 "cells": [
  {
   "attachments": {},
   "cell_type": "markdown",
   "metadata": {},
   "source": [
    "[![image](https://colab.research.google.com/assets/colab-badge.svg)](https://colab.research.google.com/github/ZachDorm/basal_and_bark/blob/main/docs/examples/geosdemo.ipynb)"
   ]
  },
  {
   "cell_type": "code",
   "execution_count": 1,
   "metadata": {},
   "outputs": [
    {
     "data": {
      "text/plain": [
       "basal_and_bark.basal_and_bark.Map"
      ]
     },
     "execution_count": 1,
     "metadata": {},
     "output_type": "execute_result"
    }
   ],
   "source": [
    "#import basal_and_bark\n",
    "#instantiate a basal_and_bark ipyleaflet map instance\n",
    "import basal_and_bark\n",
    "\n",
    "m = basal_and_bark.Map(center = [40,-100], zoom = 4, test = \"test\", scroll_wheel_zoom = True)\n",
    "type(m)\n"
   ]
  },
  {
   "cell_type": "code",
   "execution_count": 2,
   "metadata": {},
   "outputs": [
    {
     "data": {
      "application/vnd.jupyter.widget-view+json": {
       "model_id": "a1c8bc67430946659aa6517e5824f1ec",
       "version_major": 2,
       "version_minor": 0
      },
      "text/plain": [
       "Map(center=[40, -100], controls=(ZoomControl(options=['position', 'zoom_in_text', 'zoom_in_title', 'zoom_out_t…"
      ]
     },
     "metadata": {},
     "output_type": "display_data"
    }
   ],
   "source": [
    "#show basal_and_bark map, this will update as the subsequent lines of code are executed\n",
    "m"
   ]
  },
  {
   "cell_type": "code",
   "execution_count": null,
   "metadata": {},
   "outputs": [],
   "source": [
    "#add layer control to the basal_and_bark map\n",
    "basal_and_bark.add_layer_control(m)"
   ]
  },
  {
   "cell_type": "code",
   "execution_count": 3,
   "metadata": {},
   "outputs": [],
   "source": [
    "#View the sample data\n",
    "#The data can be viewed and explored without adding it to the working map\n",
    "# b=basal_and_bark.view_data(\"data/tl_2018_tn_county.shp\")\n",
    "b=basal_and_bark.view_data(\"https://github.com/ZachDorm/basal_and_bark/blob/main/docs/examples/data/tl_2018_tn_county.shp\")\n",
    "\n",
    "b"
   ]
  },
  {
   "cell_type": "code",
   "execution_count": null,
   "metadata": {},
   "outputs": [],
   "source": [
    "#add data to the working map\n",
    "basal_and_bark.add_data(m,\"https://github.com/ZachDorm/basal_and_bark/blob/main/docs/examples/data/tl_2018_tn_county.shp\")"
   ]
  },
  {
   "cell_type": "code",
   "execution_count": 7,
   "metadata": {},
   "outputs": [
    {
     "ename": "DriverError",
     "evalue": "'/vsimem/16edf73692e040bb80c57f7050fbaf64' not recognized as a supported file format.",
     "output_type": "error",
     "traceback": [
      "\u001b[1;31m---------------------------------------------------------------------------\u001b[0m",
      "\u001b[1;31mCPLE_OpenFailedError\u001b[0m                      Traceback (most recent call last)",
      "File \u001b[1;32mfiona\\ogrext.pyx:136\u001b[0m, in \u001b[0;36mfiona.ogrext.gdal_open_vector\u001b[1;34m()\u001b[0m\n",
      "File \u001b[1;32mfiona\\_err.pyx:291\u001b[0m, in \u001b[0;36mfiona._err.exc_wrap_pointer\u001b[1;34m()\u001b[0m\n",
      "\u001b[1;31mCPLE_OpenFailedError\u001b[0m: '/vsimem/16edf73692e040bb80c57f7050fbaf64' not recognized as a supported file format.",
      "\nDuring handling of the above exception, another exception occurred:\n",
      "\u001b[1;31mDriverError\u001b[0m                               Traceback (most recent call last)",
      "Cell \u001b[1;32mIn[7], line 2\u001b[0m\n\u001b[0;32m      1\u001b[0m \u001b[39mimport\u001b[39;00m \u001b[39mgeopandas\u001b[39;00m\n\u001b[1;32m----> 2\u001b[0m add_gdf \u001b[39m=\u001b[39m geopandas\u001b[39m.\u001b[39;49mread_file(\u001b[39m\"\u001b[39;49m\u001b[39mhttps://github.com/ZachDorm/basal_and_bark/blob/main/docs/examples/data/tl_2018_tn_county.shp\u001b[39;49m\u001b[39m\"\u001b[39;49m)\n\u001b[0;32m      3\u001b[0m add_gdf\u001b[39m.\u001b[39mexplore()\n",
      "File \u001b[1;32mc:\\Users\\zachd\\Conda2\\miniconda3\\envs\\geos\\lib\\site-packages\\geopandas\\io\\file.py:259\u001b[0m, in \u001b[0;36m_read_file\u001b[1;34m(filename, bbox, mask, rows, engine, **kwargs)\u001b[0m\n\u001b[0;32m    256\u001b[0m     path_or_bytes \u001b[39m=\u001b[39m filename\n\u001b[0;32m    258\u001b[0m \u001b[39mif\u001b[39;00m engine \u001b[39m==\u001b[39m \u001b[39m\"\u001b[39m\u001b[39mfiona\u001b[39m\u001b[39m\"\u001b[39m:\n\u001b[1;32m--> 259\u001b[0m     \u001b[39mreturn\u001b[39;00m _read_file_fiona(\n\u001b[0;32m    260\u001b[0m         path_or_bytes, from_bytes, bbox\u001b[39m=\u001b[39mbbox, mask\u001b[39m=\u001b[39mmask, rows\u001b[39m=\u001b[39mrows, \u001b[39m*\u001b[39m\u001b[39m*\u001b[39mkwargs\n\u001b[0;32m    261\u001b[0m     )\n\u001b[0;32m    262\u001b[0m \u001b[39melif\u001b[39;00m engine \u001b[39m==\u001b[39m \u001b[39m\"\u001b[39m\u001b[39mpyogrio\u001b[39m\u001b[39m\"\u001b[39m:\n\u001b[0;32m    263\u001b[0m     \u001b[39mreturn\u001b[39;00m _read_file_pyogrio(\n\u001b[0;32m    264\u001b[0m         path_or_bytes, bbox\u001b[39m=\u001b[39mbbox, mask\u001b[39m=\u001b[39mmask, rows\u001b[39m=\u001b[39mrows, \u001b[39m*\u001b[39m\u001b[39m*\u001b[39mkwargs\n\u001b[0;32m    265\u001b[0m     )\n",
      "File \u001b[1;32mc:\\Users\\zachd\\Conda2\\miniconda3\\envs\\geos\\lib\\site-packages\\geopandas\\io\\file.py:303\u001b[0m, in \u001b[0;36m_read_file_fiona\u001b[1;34m(path_or_bytes, from_bytes, bbox, mask, rows, where, **kwargs)\u001b[0m\n\u001b[0;32m    300\u001b[0m     reader \u001b[39m=\u001b[39m fiona\u001b[39m.\u001b[39mopen\n\u001b[0;32m    302\u001b[0m \u001b[39mwith\u001b[39;00m fiona_env():\n\u001b[1;32m--> 303\u001b[0m     \u001b[39mwith\u001b[39;00m reader(path_or_bytes, \u001b[39m*\u001b[39m\u001b[39m*\u001b[39mkwargs) \u001b[39mas\u001b[39;00m features:\n\u001b[0;32m    304\u001b[0m         crs \u001b[39m=\u001b[39m features\u001b[39m.\u001b[39mcrs_wkt\n\u001b[0;32m    305\u001b[0m         \u001b[39m# attempt to get EPSG code\u001b[39;00m\n",
      "File \u001b[1;32mc:\\Users\\zachd\\Conda2\\miniconda3\\envs\\geos\\lib\\site-packages\\fiona\\collection.py:770\u001b[0m, in \u001b[0;36mBytesCollection.__init__\u001b[1;34m(self, bytesbuf, **kwds)\u001b[0m\n\u001b[0;32m    767\u001b[0m \u001b[39mself\u001b[39m\u001b[39m.\u001b[39mvirtual_file \u001b[39m=\u001b[39m buffer_to_virtual_file(\u001b[39mself\u001b[39m\u001b[39m.\u001b[39mbytesbuf, ext\u001b[39m=\u001b[39mext)\n\u001b[0;32m    769\u001b[0m \u001b[39m# Instantiate the parent class.\u001b[39;00m\n\u001b[1;32m--> 770\u001b[0m \u001b[39msuper\u001b[39m()\u001b[39m.\u001b[39m\u001b[39m__init__\u001b[39m(\u001b[39mself\u001b[39m\u001b[39m.\u001b[39mvirtual_file, vsi\u001b[39m=\u001b[39mfiletype, \u001b[39m*\u001b[39m\u001b[39m*\u001b[39mkwds)\n\u001b[0;32m    772\u001b[0m \u001b[39mself\u001b[39m\u001b[39m.\u001b[39m_closed \u001b[39m=\u001b[39m \u001b[39mFalse\u001b[39;00m\n",
      "File \u001b[1;32mc:\\Users\\zachd\\Conda2\\miniconda3\\envs\\geos\\lib\\site-packages\\fiona\\collection.py:234\u001b[0m, in \u001b[0;36mCollection.__init__\u001b[1;34m(self, path, mode, driver, schema, crs, encoding, layer, vsi, archive, enabled_drivers, crs_wkt, ignore_fields, ignore_geometry, include_fields, wkt_version, allow_unsupported_drivers, **kwargs)\u001b[0m\n\u001b[0;32m    232\u001b[0m \u001b[39mif\u001b[39;00m \u001b[39mself\u001b[39m\u001b[39m.\u001b[39mmode \u001b[39m==\u001b[39m \u001b[39m\"\u001b[39m\u001b[39mr\u001b[39m\u001b[39m\"\u001b[39m:\n\u001b[0;32m    233\u001b[0m     \u001b[39mself\u001b[39m\u001b[39m.\u001b[39msession \u001b[39m=\u001b[39m Session()\n\u001b[1;32m--> 234\u001b[0m     \u001b[39mself\u001b[39m\u001b[39m.\u001b[39msession\u001b[39m.\u001b[39mstart(\u001b[39mself\u001b[39m, \u001b[39m*\u001b[39m\u001b[39m*\u001b[39mkwargs)\n\u001b[0;32m    235\u001b[0m \u001b[39melif\u001b[39;00m \u001b[39mself\u001b[39m\u001b[39m.\u001b[39mmode \u001b[39min\u001b[39;00m (\u001b[39m\"\u001b[39m\u001b[39ma\u001b[39m\u001b[39m\"\u001b[39m, \u001b[39m\"\u001b[39m\u001b[39mw\u001b[39m\u001b[39m\"\u001b[39m):\n\u001b[0;32m    236\u001b[0m     \u001b[39mself\u001b[39m\u001b[39m.\u001b[39msession \u001b[39m=\u001b[39m WritingSession()\n",
      "File \u001b[1;32mfiona\\ogrext.pyx:587\u001b[0m, in \u001b[0;36mfiona.ogrext.Session.start\u001b[1;34m()\u001b[0m\n",
      "File \u001b[1;32mfiona\\ogrext.pyx:143\u001b[0m, in \u001b[0;36mfiona.ogrext.gdal_open_vector\u001b[1;34m()\u001b[0m\n",
      "\u001b[1;31mDriverError\u001b[0m: '/vsimem/16edf73692e040bb80c57f7050fbaf64' not recognized as a supported file format."
     ]
    }
   ],
   "source": [
    "import geopandas\n",
    "add_gdf = geopandas.read_file(\"https://github.com/ZachDorm/basal_and_bark/blob/main/docs/examples/data/tl_2018_tn_county.shp\")\n",
    "add_gdf.explore()"
   ]
  }
 ],
 "metadata": {
  "kernelspec": {
   "display_name": "Python 3",
   "language": "python",
   "name": "python3"
  },
  "language_info": {
   "codemirror_mode": {
    "name": "ipython",
    "version": 3
   },
   "file_extension": ".py",
   "mimetype": "text/x-python",
   "name": "python",
   "nbconvert_exporter": "python",
   "pygments_lexer": "ipython3",
   "version": "3.10.8"
  },
  "orig_nbformat": 4
 },
 "nbformat": 4,
 "nbformat_minor": 2
}
