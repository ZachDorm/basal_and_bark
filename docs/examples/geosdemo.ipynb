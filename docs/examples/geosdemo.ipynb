{
 "cells": [
  {
   "attachments": {},
   "cell_type": "markdown",
   "metadata": {},
   "source": [
    "[![image](https://colab.research.google.com/assets/colab-badge.svg)](https://colab.research.google.com/github/ZachDorm/basal_and_bark/blob/main/docs/examples/geosdemo.ipynb)"
   ]
  },
  {
   "cell_type": "code",
   "execution_count": null,
   "metadata": {},
   "outputs": [],
   "source": [
    "#import basal_and_bark\n",
    "#instantiate a basal_and_bark ipyleaflet map instance\n",
    "import basal_and_bark\n",
    "\n",
    "m = basal_and_bark.Map(center = [40,-100], zoom = 4, test = \"test\", scroll_wheel_zoom = True)\n",
    "type(m)\n"
   ]
  },
  {
   "cell_type": "code",
   "execution_count": null,
   "metadata": {},
   "outputs": [],
   "source": [
    "#show basal_and_bark map, this will update as the subsequent lines of code are executed\n",
    "m"
   ]
  },
  {
   "cell_type": "code",
   "execution_count": null,
   "metadata": {},
   "outputs": [],
   "source": [
    "#add layer control to the basal_and_bark map\n",
    "basal_and_bark.add_layer_control(m)"
   ]
  },
  {
   "cell_type": "code",
   "execution_count": null,
   "metadata": {},
   "outputs": [],
   "source": [
    "#View the sample data\n",
    "#The data can be viewed and explored without adding it to the working map\n",
    "b=basal_and_bark.view_data(\"data/tl_2018_tn_county.shp\")\n",
    "\n",
    "b"
   ]
  },
  {
   "cell_type": "code",
   "execution_count": null,
   "metadata": {},
   "outputs": [],
   "source": [
    "#add data to the working map\n",
    "basal_and_bark.add_data(m,\"data/tl_2018_tn_county.shp\")"
   ]
  }
 ],
 "metadata": {
  "kernelspec": {
   "display_name": "Python 3",
   "language": "python",
   "name": "python3"
  },
  "language_info": {
   "codemirror_mode": {
    "name": "ipython",
    "version": 3
   },
   "file_extension": ".py",
   "mimetype": "text/x-python",
   "name": "python",
   "nbconvert_exporter": "python",
   "pygments_lexer": "ipython3",
   "version": "3.10.8"
  },
  "orig_nbformat": 4
 },
 "nbformat": 4,
 "nbformat_minor": 2
}
