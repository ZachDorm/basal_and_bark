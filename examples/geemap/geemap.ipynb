{
 "cells": [
  {
   "cell_type": "code",
   "execution_count": 2,
   "metadata": {},
   "outputs": [],
   "source": [
    "import basal_and_bark\n",
    "from basal_and_bark import basal_and_bark as basal\n",
    "from basal_and_bark import basal_and_bark_folium as basal_folium\n",
    "import geemap\n",
    "import ee\n",
    "import ipyleaflet\n",
    "from ipyleaflet import TileLayer"
   ]
  },
  {
   "cell_type": "code",
   "execution_count": null,
   "metadata": {},
   "outputs": [],
   "source": [
    "m = geemap.Map()"
   ]
  },
  {
   "cell_type": "code",
   "execution_count": null,
   "metadata": {},
   "outputs": [],
   "source": [
    "ee.Initialize()\n",
    "# data = ee.Image('')\n",
    "states = ee.FeatureCollection(\"TIGER/2018/States\")"
   ]
  },
  {
   "cell_type": "code",
   "execution_count": null,
   "metadata": {},
   "outputs": [],
   "source": [
    "st = states.filter(ee.Filter.eq('STUSPS', 'AL'))"
   ]
  },
  {
   "cell_type": "code",
   "execution_count": 4,
   "metadata": {},
   "outputs": [],
   "source": [
    "leaflet_map = basal.Map(center = [40,-100], zoom = 4, test = \"test\", scroll_wheel_zoom = True)"
   ]
  },
  {
   "cell_type": "code",
   "execution_count": 5,
   "metadata": {},
   "outputs": [
    {
     "data": {
      "text/plain": [
       "{'max': {'treecover2000': 100},\n",
       " 'mean': {'treecover2000': 62.0600837382026},\n",
       " 'min': {'treecover2000': 0},\n",
       " 'std': {'treecover2000': 43.85990269986808},\n",
       " 'sum': {'treecover2000': 11165950540.913729}}"
      ]
     },
     "execution_count": 5,
     "metadata": {},
     "output_type": "execute_result"
    }
   ],
   "source": [
    "df=leaflet_map.addGEEData('AL')\n",
    "df\n",
    "# .style \\\n",
    "#   .format(precision=3, thousands=\".\", decimal=\",\") \\\n",
    "#   .format_index(str.upper, axis=1)"
   ]
  },
  {
   "cell_type": "code",
   "execution_count": 6,
   "metadata": {},
   "outputs": [],
   "source": [
    "import pandas as pd"
   ]
  },
  {
   "cell_type": "code",
   "execution_count": null,
   "metadata": {},
   "outputs": [],
   "source": [
    "label = {'max', 'mean', 'min', 'std', 'sum'}\n"
   ]
  },
  {
   "cell_type": "code",
   "execution_count": null,
   "metadata": {},
   "outputs": [],
   "source": []
  },
  {
   "cell_type": "code",
   "execution_count": 7,
   "metadata": {},
   "outputs": [],
   "source": [
    "#list(df.keys())[0]\n",
    "lst = list(list(df.values()))#.values())"
   ]
  },
  {
   "cell_type": "code",
   "execution_count": 8,
   "metadata": {},
   "outputs": [
    {
     "data": {
      "text/html": [
       "<div>\n",
       "<style scoped>\n",
       "    .dataframe tbody tr th:only-of-type {\n",
       "        vertical-align: middle;\n",
       "    }\n",
       "\n",
       "    .dataframe tbody tr th {\n",
       "        vertical-align: top;\n",
       "    }\n",
       "\n",
       "    .dataframe thead th {\n",
       "        text-align: right;\n",
       "    }\n",
       "</style>\n",
       "<table border=\"1\" class=\"dataframe\">\n",
       "  <thead>\n",
       "    <tr style=\"text-align: right;\">\n",
       "      <th></th>\n",
       "      <th>GEEMap Data</th>\n",
       "    </tr>\n",
       "  </thead>\n",
       "  <tbody>\n",
       "    <tr>\n",
       "      <th>max</th>\n",
       "      <td>1.000000e+02</td>\n",
       "    </tr>\n",
       "    <tr>\n",
       "      <th>mean</th>\n",
       "      <td>6.206008e+01</td>\n",
       "    </tr>\n",
       "    <tr>\n",
       "      <th>min</th>\n",
       "      <td>0.000000e+00</td>\n",
       "    </tr>\n",
       "    <tr>\n",
       "      <th>std</th>\n",
       "      <td>4.385990e+01</td>\n",
       "    </tr>\n",
       "    <tr>\n",
       "      <th>sum</th>\n",
       "      <td>1.116595e+10</td>\n",
       "    </tr>\n",
       "  </tbody>\n",
       "</table>\n",
       "</div>"
      ],
      "text/plain": [
       "       GEEMap Data\n",
       "max   1.000000e+02\n",
       "mean  6.206008e+01\n",
       "min   0.000000e+00\n",
       "std   4.385990e+01\n",
       "sum   1.116595e+10"
      ]
     },
     "execution_count": 8,
     "metadata": {},
     "output_type": "execute_result"
    }
   ],
   "source": [
    "df = pd.DataFrame(lst)\n",
    "df.index = ['max', 'mean', 'min', 'std', 'sum']\n",
    "df.columns = ['GEEMap Data']\n",
    "df"
   ]
  },
  {
   "cell_type": "code",
   "execution_count": null,
   "metadata": {},
   "outputs": [],
   "source": [
    "dem = ee.Image('UMD/hansen/global_forest_change_2018_v1_6')#ee.ImageCollection('USGS/NLCD_RELEASES/2016_REL').mosaic()\n",
    "\n",
    "vis_params = {\n",
    "  'min': 0,\n",
    "  'max': 4000,\n",
    "  'palette': ['006633', 'E5FFCC', '662A00', 'D8D8D8', 'F5F5F5']}"
   ]
  },
  {
   "cell_type": "code",
   "execution_count": null,
   "metadata": {},
   "outputs": [],
   "source": [
    "dem_f = dem.clip(st)"
   ]
  },
  {
   "cell_type": "code",
   "execution_count": null,
   "metadata": {},
   "outputs": [],
   "source": [
    "tile = leaflet_map.ee_tile_layer(dem_f.select('treecover2000'), vis_params)"
   ]
  },
  {
   "cell_type": "code",
   "execution_count": null,
   "metadata": {},
   "outputs": [],
   "source": [
    "stats = geemap.image_stats(dem_f.select('treecover2000'), region =st, scale=30)\n",
    "stats.getInfo()"
   ]
  },
  {
   "cell_type": "code",
   "execution_count": null,
   "metadata": {},
   "outputs": [],
   "source": [
    "leaflet_map.add_layer(tile)"
   ]
  },
  {
   "cell_type": "code",
   "execution_count": null,
   "metadata": {},
   "outputs": [],
   "source": [
    "leaflet_map"
   ]
  },
  {
   "cell_type": "code",
   "execution_count": null,
   "metadata": {},
   "outputs": [],
   "source": [
    "def ee_tile_layer(\n",
    "    ee_object, vis_params={}, name=\"Layer untitled\", shown=True, opacity=1.0\n",
    "):\n",
    "    \"\"\"Converts and Earth Engine layer to ipyleaflet TileLayer.\n",
    "    Args:\n",
    "        ee_object (Collection|Feature|Image|MapId): The object to add to the map.\n",
    "        vis_params (dict, optional): The visualization parameters. Defaults to {}.\n",
    "        name (str, optional): The name of the layer. Defaults to 'Layer untitled'.\n",
    "        shown (bool, optional): A flag indicating whether the layer should be on by default. Defaults to True.\n",
    "        opacity (float, optional): The layer's opacity represented as a number between 0 and 1. Defaults to 1.\n",
    "    \"\"\"\n",
    "\n",
    "    image = None\n",
    "\n",
    "    if (\n",
    "        not isinstance(ee_object, ee.Image)\n",
    "        and not isinstance(ee_object, ee.ImageCollection)\n",
    "        and not isinstance(ee_object, ee.FeatureCollection)\n",
    "        and not isinstance(ee_object, ee.Feature)\n",
    "        and not isinstance(ee_object, ee.Geometry)\n",
    "    ):\n",
    "        err_str = \"\\n\\nThe image argument in 'addLayer' function must be an instace of one of ee.Image, ee.Geometry, ee.Feature or ee.FeatureCollection.\"\n",
    "        raise AttributeError(err_str)\n",
    "\n",
    "    if (\n",
    "        isinstance(ee_object, ee.geometry.Geometry)\n",
    "        or isinstance(ee_object, ee.feature.Feature)\n",
    "        or isinstance(ee_object, ee.featurecollection.FeatureCollection)\n",
    "    ):\n",
    "        features = ee.FeatureCollection(ee_object)\n",
    "\n",
    "        width = 2\n",
    "\n",
    "        if \"width\" in vis_params:\n",
    "            width = vis_params[\"width\"]\n",
    "\n",
    "        color = \"000000\"\n",
    "\n",
    "        if \"color\" in vis_params:\n",
    "            color = vis_params[\"color\"]\n",
    "\n",
    "        image_fill = features.style(**{\"fillColor\": color}).updateMask(\n",
    "            ee.Image.constant(0.5)\n",
    "        )\n",
    "        image_outline = features.style(\n",
    "            **{\"color\": color, \"fillColor\": \"00000000\", \"width\": width}\n",
    "        )\n",
    "\n",
    "        image = image_fill.blend(image_outline)\n",
    "    elif isinstance(ee_object, ee.image.Image):\n",
    "        image = ee_object\n",
    "    elif isinstance(ee_object, ee.imagecollection.ImageCollection):\n",
    "        image = ee_object.mosaic()\n",
    "\n",
    "    map_id_dict = ee.Image(image).getMapId(vis_params)\n",
    "    tile_layer = TileLayer(\n",
    "        url=map_id_dict[\"tile_fetcher\"].url_format,\n",
    "        attribution=\"Google Earth Engine\",\n",
    "        name=name,\n",
    "        opacity=opacity,\n",
    "        visible=shown,\n",
    "    )\n",
    "    return tile_layer"
   ]
  }
 ],
 "metadata": {
  "kernelspec": {
   "display_name": "Python 3",
   "language": "python",
   "name": "python3"
  },
  "language_info": {
   "codemirror_mode": {
    "name": "ipython",
    "version": 3
   },
   "file_extension": ".py",
   "mimetype": "text/x-python",
   "name": "python",
   "nbconvert_exporter": "python",
   "pygments_lexer": "ipython3",
   "version": "3.10.8"
  },
  "orig_nbformat": 4
 },
 "nbformat": 4,
 "nbformat_minor": 2
}
